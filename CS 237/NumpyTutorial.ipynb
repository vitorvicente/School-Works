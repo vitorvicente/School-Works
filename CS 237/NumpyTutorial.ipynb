{
 "cells": [
  {
   "cell_type": "markdown",
   "metadata": {},
   "source": [
    "# CS 237  Tutorial on Numpy\n",
    "\n",
    "Numpy is a Python library which provides high-performance multi-dimension arrays for\n",
    "scientific computing and data science.  It also provides a full set of\n",
    "mathematical, especially probability, functions, which can be\n",
    "applied to single values or entire arrays.  We will use it throughout the\n",
    "course, and in fact I recommend that you use it in place of the standard <code>math</code>\n",
    "library. \n",
    "\n",
    "NOTE:  Although numpy provides extensive functionality for multi-dimensional arrays, we\n",
    "will only use 1-D arrays, which look pretty much list normal Python lists. \n",
    "\n",
    "For more information about Numpy (and Python), check out this notebook, from which\n",
    "I draw some of the information in this notebook:\n",
    "\n",
    "https://github.com/kuleshov/cs228-material/blob/master/tutorials/python/cs228-python-tutorial.ipynb\n"
   ]
  },
  {
   "cell_type": "code",
   "execution_count": 147,
   "metadata": {
    "scrolled": false
   },
   "outputs": [],
   "source": [
    "# Here are some imports which will be used in code that we write for CS 237\n",
    "\n",
    "# Imports used for the code in CS 237\n",
    "\n",
    "import numpy as np                # arrays and functions which operate on array, plus math functions\n"
   ]
  },
  {
   "cell_type": "markdown",
   "metadata": {},
   "source": [
    "## Numpy Arrays\n",
    "\n",
    "Numpy provides an (multi-dimensional) array type, <code>ndarray</code>but we will only need them in the 1-D case,\n",
    "so we just want to understand how normal Python lists and numpy arrays work, and how to\n",
    "integrate numpy arrays into our Python programming. \n",
    "\n",
    "For further information, see the manual page:  \n",
    "\n",
    "\n",
    "### Basic One-Dimensional Arrays\n",
    "\n",
    "The numpy library functions return arrays instead of normal Python lists. Since\n",
    "numpy automatically converts normal lists into numpy arrays, we can use lists\n",
    "without any problems.  \n",
    "\n",
    "However, the reverse is not true:  normal Python functions which expect lists will NOT\n",
    "work with numpy arrays, and you'll have to make adjustments. "
   ]
  },
  {
   "cell_type": "code",
   "execution_count": 148,
   "metadata": {},
   "outputs": [
    {
     "name": "stdout",
     "output_type": "stream",
     "text": [
      "[12  3 -3]\n"
     ]
    }
   ],
   "source": [
    "# Creating a numpy array from a list\n",
    "\n",
    "ex1 = np.array( [ 12,3,-3 ] )\n",
    "print(ex1)"
   ]
  },
  {
   "cell_type": "markdown",
   "metadata": {},
   "source": [
    "Notice that numpy arrays are printed WITHOUT commas!  That is not actually the internal representation,\n",
    "which you can see if you simply type the variable on a line by itself. "
   ]
  },
  {
   "cell_type": "code",
   "execution_count": 149,
   "metadata": {},
   "outputs": [
    {
     "data": {
      "text/plain": [
       "array([12,  3, -3])"
      ]
     },
     "execution_count": 149,
     "metadata": {},
     "output_type": "execute_result"
    }
   ],
   "source": [
    "ex1"
   ]
  },
  {
   "cell_type": "code",
   "execution_count": 150,
   "metadata": {},
   "outputs": [
    {
     "name": "stdout",
     "output_type": "stream",
     "text": [
      "[12, 3, -3]\n",
      "[12, 3, -3]\n"
     ]
    }
   ],
   "source": [
    "# Turning a numpy 1-D array into a list\n",
    "\n",
    "ex2 = list( ex1 )\n",
    "print(ex2)\n",
    "\n",
    "# Or:\n",
    "\n",
    "e3 = ex1.tolist()\n",
    "print(e3)"
   ]
  },
  {
   "cell_type": "code",
   "execution_count": 151,
   "metadata": {},
   "outputs": [
    {
     "data": {
      "text/plain": [
       "[12, 3, -3]"
      ]
     },
     "execution_count": 151,
     "metadata": {},
     "output_type": "execute_result"
    }
   ],
   "source": [
    "ex2"
   ]
  },
  {
   "cell_type": "markdown",
   "metadata": {},
   "source": [
    "All the normal slices and access methods from lists will work with numpy arrays, so you don't have to\n",
    "care about whether they are arrays or lists:"
   ]
  },
  {
   "cell_type": "code",
   "execution_count": 152,
   "metadata": {},
   "outputs": [
    {
     "data": {
      "text/plain": [
       "-3"
      ]
     },
     "execution_count": 152,
     "metadata": {},
     "output_type": "execute_result"
    }
   ],
   "source": [
    "ex1[2]"
   ]
  },
  {
   "cell_type": "code",
   "execution_count": 153,
   "metadata": {},
   "outputs": [
    {
     "data": {
      "text/plain": [
       "array([12,  3])"
      ]
     },
     "execution_count": 153,
     "metadata": {},
     "output_type": "execute_result"
    }
   ],
   "source": [
    "ex1[:2]"
   ]
  },
  {
   "cell_type": "markdown",
   "metadata": {},
   "source": [
    "### Useful Numpy functions to create useful lists"
   ]
  },
  {
   "cell_type": "code",
   "execution_count": 154,
   "metadata": {},
   "outputs": [
    {
     "data": {
      "text/plain": [
       "array([0., 0., 0., 0., 0.])"
      ]
     },
     "execution_count": 154,
     "metadata": {},
     "output_type": "execute_result"
    }
   ],
   "source": [
    "# Create a list of 0's\n",
    "\n",
    "np.zeros(5)       #  <- the size of the result must be given"
   ]
  },
  {
   "cell_type": "code",
   "execution_count": 155,
   "metadata": {},
   "outputs": [
    {
     "data": {
      "text/plain": [
       "array([1., 1., 1., 1., 1., 1., 1., 1., 1., 1.])"
      ]
     },
     "execution_count": 155,
     "metadata": {},
     "output_type": "execute_result"
    }
   ],
   "source": [
    "# Create a list of 1's\n",
    "np.ones(10)"
   ]
  },
  {
   "cell_type": "code",
   "execution_count": 156,
   "metadata": {},
   "outputs": [
    {
     "data": {
      "text/plain": [
       "array([3.14, 3.14, 3.14, 3.14, 3.14, 3.14, 3.14, 3.14, 3.14, 3.14])"
      ]
     },
     "execution_count": 156,
     "metadata": {},
     "output_type": "execute_result"
    }
   ],
   "source": [
    "# Create a list of constant values\n",
    "np.full(10,3.14)"
   ]
  },
  {
   "cell_type": "markdown",
   "metadata": {},
   "source": [
    "### Creating lists in a given range"
   ]
  },
  {
   "cell_type": "code",
   "execution_count": 157,
   "metadata": {},
   "outputs": [
    {
     "name": "stdout",
     "output_type": "stream",
     "text": [
      "[0, 1, 2, 3, 4, 5, 6, 7, 8, 9]\n",
      "[1, 2, 3, 4, 5, 6]\n",
      "[2, 4, 6, 8, 10]\n",
      "[12, 9, 6, 3]\n"
     ]
    }
   ],
   "source": [
    "# Normal Python ranges - they are evaluated lazily by Python, so must turn them into lists to see....\n",
    "\n",
    "print(  list(range(10))  )\n",
    "\n",
    "print(  list(range(1,7))  )\n",
    "\n",
    "print(  list(range(2,12,2))  )\n",
    "\n",
    "print(  list(range(12,2, -3)) )"
   ]
  },
  {
   "cell_type": "code",
   "execution_count": 158,
   "metadata": {},
   "outputs": [
    {
     "name": "stdout",
     "output_type": "stream",
     "text": [
      "[0, 1, 2, 3, 4, 5, 6, 7, 8, 9]\n",
      "[1, 2, 3, 4, 5, 6]\n",
      "[2, 4, 6, 8, 10]\n",
      "[12, 9, 6, 3]\n"
     ]
    }
   ],
   "source": [
    "# Numpy ranges -- same except spelled with an 'a'\n",
    "\n",
    "print(  list(  np.arange(10)  )  )\n",
    "\n",
    "print(  list(  np.arange(1,7)  )  )\n",
    "\n",
    "print(  list(  np.arange(2,12,2)  )  )\n",
    "\n",
    "print(  list(  np.arange(12,2, -3)  ) )"
   ]
  },
  {
   "cell_type": "code",
   "execution_count": 159,
   "metadata": {},
   "outputs": [
    {
     "name": "stdout",
     "output_type": "stream",
     "text": [
      "[0.0, 0.1, 0.2, 0.30000000000000004, 0.4, 0.5, 0.6000000000000001, 0.7000000000000001, 0.8, 0.9]\n",
      "\n",
      "[0.  0.1 0.2 0.3 0.4 0.5 0.6 0.7 0.8 0.9]\n"
     ]
    }
   ],
   "source": [
    "# BUT also worked with floating point, but you'll get the usual weirdness with floating-point values\n",
    "\n",
    "ex4 = list( np.arange(0.0,1.0,0.1) ) \n",
    "\n",
    "print(ex4)\n",
    "print()\n",
    "# If you want to print this out with less precision, you can round \n",
    "ex4b = np.around( ex4, 1 )            \n",
    "\n",
    "print( ex4b )"
   ]
  },
  {
   "cell_type": "code",
   "execution_count": 160,
   "metadata": {},
   "outputs": [
    {
     "name": "stdout",
     "output_type": "stream",
     "text": [
      "[0.         0.11111111 0.22222222 0.33333333 0.44444444 0.55555556\n",
      " 0.66666667 0.77777778 0.88888889 1.        ]\n",
      "\n",
      "[0.  0.1 0.2 0.3 0.4 0.5 0.6 0.7 0.8 0.9 1. ]\n"
     ]
    }
   ],
   "source": [
    "# Linear spacing in a range\n",
    "\n",
    "# The linspace function does the same thing as the previous, but it allows you\n",
    "# to specify HOW MANY values, not the increment\n",
    "\n",
    "# NOTE: Unlike range, the upper bound is inclusive (it will be one of the values)\n",
    "\n",
    "print( np.linspace(0,1,10) )   \n",
    "print()\n",
    "print( np.linspace(0,1,11) )    "
   ]
  },
  {
   "cell_type": "markdown",
   "metadata": {},
   "source": [
    "### Useful array functions returning a scalar"
   ]
  },
  {
   "cell_type": "code",
   "execution_count": 161,
   "metadata": {},
   "outputs": [
    {
     "name": "stdout",
     "output_type": "stream",
     "text": [
      "8\n",
      "7\n",
      "2\n",
      "4.0\n",
      "32\n",
      "30240\n",
      "6\n",
      "0\n"
     ]
    }
   ],
   "source": [
    "# Here are functions that take a list or array as input and produce a scalar value\n",
    "\n",
    "ex6 = np.array( [ 2,4,3,6,5,3,7, 2 ])\n",
    "\n",
    "print(  np.size(ex6)   )                # Number of elements in array, same as len(...) on lists\n",
    "\n",
    "print(  np.amax(ex6)  )                 # Note the 'a' added to front for \"array max\"\n",
    "\n",
    "print(  np.amin(ex6)  )                 # Ditto \n",
    "\n",
    "print(  np.mean(ex6)  )                 # Find the mean (average) of the array\n",
    "\n",
    "print(  np.sum(ex6)   )                  # sum of all members of list or array\n",
    "\n",
    "print(  np.prod(ex6)   )                 # product -- note that the input is a list\n",
    "\n",
    "print(  np.argmax(ex6)  )                # find the index of the max element\n",
    "\n",
    "print(  np.argmin(ex6)  )                # find the index of the min elemnt\n"
   ]
  },
  {
   "cell_type": "markdown",
   "metadata": {},
   "source": [
    "### Useful array functions to return another array"
   ]
  },
  {
   "cell_type": "code",
   "execution_count": 162,
   "metadata": {},
   "outputs": [
    {
     "name": "stdout",
     "output_type": "stream",
     "text": [
      "[12  3 -3]\n",
      "[-3  3 12]\n",
      "\n",
      "[ 2  3  4  5  7 13]\n"
     ]
    }
   ],
   "source": [
    "# Here are some array processing functions, they take an array and output an array\n",
    "\n",
    "# Sorting   (in place -- changes the array permanently)\n",
    "\n",
    "print(ex1)\n",
    "\n",
    "ex1.sort()\n",
    "\n",
    "print(ex1)\n",
    "print()\n",
    "\n",
    "# eliminate duplicate values (sorts it as well!)\n",
    "\n",
    "ex5 = np.array( [ 13,7,5,3,4,5,2,3,4 ])\n",
    "\n",
    "print(  np.unique( ex5 ))\n",
    "\n",
    "# "
   ]
  },
  {
   "cell_type": "code",
   "execution_count": 163,
   "metadata": {},
   "outputs": [
    {
     "name": "stdout",
     "output_type": "stream",
     "text": [
      "[-3  3 12]\n"
     ]
    }
   ],
   "source": [
    "# It is permanently changed!\n",
    "print(ex1)"
   ]
  },
  {
   "cell_type": "code",
   "execution_count": 164,
   "metadata": {},
   "outputs": [
    {
     "data": {
      "text/plain": [
       "array([2, 5])"
      ]
     },
     "execution_count": 164,
     "metadata": {},
     "output_type": "execute_result"
    }
   ],
   "source": [
    "# Finding the indices of a given element in the array\n",
    "\n",
    "ex5 = np.array( [2,4,3,5,4,3,4]  )\n",
    "np.where(ex5 == 3)[0]                  # This syntax is weird!"
   ]
  },
  {
   "cell_type": "markdown",
   "metadata": {},
   "source": [
    "## Numpy Math\n",
    "\n",
    "Numpy provides a complete set of mathematical functions which you should get used\n",
    "to using. Here is a catalog of useful functions with examples of use.\n",
    "\n",
    "One of the most useful features of Numpy functions is that they allow you to give\n",
    "numpy arrays or just Python lists, and it applies the function to every member\n",
    "of the list.   Numpy will manage as gracefully as possible if you give it\n",
    "normal lists instead of numpy arrays. For the math functions, we will simply\n",
    "show how to use them with normal Python lists. \n",
    "\n",
    "For further information, see the manual page:   https://docs.scipy.org/doc/numpy-1.13.0/reference/routines.math.html\n",
    "\n",
    "### Basic Math Constants: Pi and E (base of natrual algorithms)\n",
    "\n"
   ]
  },
  {
   "cell_type": "code",
   "execution_count": 165,
   "metadata": {},
   "outputs": [
    {
     "name": "stdout",
     "output_type": "stream",
     "text": [
      "Pi: 3.141592653589793\n",
      "e: 2.718281828459045\n"
     ]
    }
   ],
   "source": [
    "print( 'Pi:', np.pi )\n",
    "\n",
    "print( 'e:', np.e    )"
   ]
  },
  {
   "cell_type": "markdown",
   "metadata": {},
   "source": [
    "### Trig Functions: Sin and Cos"
   ]
  },
  {
   "cell_type": "code",
   "execution_count": 166,
   "metadata": {},
   "outputs": [
    {
     "name": "stdout",
     "output_type": "stream",
     "text": [
      "0.8632093666488738\n",
      "[ 0.7168631  -0.77276449  0.94328826  0.86224488]\n"
     ]
    }
   ],
   "source": [
    "ex1 = np.sin( 2.1 )\n",
    "\n",
    "ex2 = np.sin(  [ 2.3423, 5.4, 1.2324, -5.2435 ] )\n",
    "\n",
    "print( ex1 )\n",
    "print( ex2 )"
   ]
  },
  {
   "cell_type": "markdown",
   "metadata": {},
   "source": [
    "### Rounding, truncating, ceiling, floor, absolute value"
   ]
  },
  {
   "cell_type": "code",
   "execution_count": 167,
   "metadata": {},
   "outputs": [
    {
     "name": "stdout",
     "output_type": "stream",
     "text": [
      "3.0\n",
      "[ 0.7 -0.8  0.9  0.9]\n",
      "[ 0.717 -0.773  0.943  0.862]\n",
      "\n",
      "3.0\n",
      "[ 0. -0.  0.  0.]\n",
      "\n",
      "4.0\n",
      "[ 1. -0.  1.  1.]\n",
      "\n",
      "3.0\n",
      "[ 0. -1.  0.  0.]\n",
      "3.141592653589793\n",
      "[0.7168631  0.77276449 0.94328826 0.86224488]\n"
     ]
    }
   ],
   "source": [
    "# Rounding\n",
    "\n",
    "print(np.around(np.pi))                # Notice the spelling starting with 'a' for \"array round\"\n",
    "print(np.around(ex2, 1))\n",
    "print(np.around(ex2, 3))\n",
    "print()\n",
    "\n",
    "# Truncation\n",
    "\n",
    "print(np.trunc(np.pi))               \n",
    "print(np.trunc(ex2))\n",
    "print()\n",
    "\n",
    "# Ceiling\n",
    "\n",
    "print(np.ceil(np.pi))           \n",
    "print(np.ceil(ex2))\n",
    "print()\n",
    "\n",
    "# Floor\n",
    "\n",
    "print(np.floor(np.pi))             \n",
    "print(np.floor(ex2))\n",
    "\n",
    "# Absolute value\n",
    "\n",
    "print(np.absolute(np.pi))             \n",
    "print(np.absolute(ex2))"
   ]
  },
  {
   "cell_type": "markdown",
   "metadata": {},
   "source": [
    "### Logs and Powers"
   ]
  },
  {
   "cell_type": "code",
   "execution_count": 168,
   "metadata": {},
   "outputs": [
    {
     "name": "stdout",
     "output_type": "stream",
     "text": [
      "93648.04747608298\n",
      "\n",
      "22026.465794806718\n",
      "\n",
      "1.4142135623730951\n",
      "1156\n",
      "\n",
      "2.302585092994046\n",
      "\n",
      "3.321928094887362\n",
      "\n",
      "1.0\n",
      "\n"
     ]
    }
   ],
   "source": [
    "\n",
    "# Raising to a power -- same as (np.pi ** 5)\n",
    "\n",
    "print( np.power(np.pi, 10) )                \n",
    "print()\n",
    "\n",
    "# calculate exponential  e^x   -- same as  np.e ** x\n",
    "\n",
    "print( np.exp(10) )       # (e^10)         \n",
    "print()\n",
    "\n",
    "# sqs and sqrts\n",
    "\n",
    "print( np.sqrt(2))\n",
    "print( np.square(34))\n",
    "print()\n",
    "\n",
    "# calculate logs to various bases\n",
    "\n",
    "print( np.log(10) )       # log to base e      \n",
    "print()\n",
    "\n",
    "# calculate natural log (to base e)\n",
    "\n",
    "print( np.log2(10) )       # log to base 2     \n",
    "print()\n",
    "\n",
    "# calculate natural log (to base e)\n",
    "\n",
    "print( np.log10(10) )       # log to base 10      \n",
    "print()"
   ]
  },
  {
   "cell_type": "markdown",
   "metadata": {},
   "source": [
    "### Basic Statistical functions\n"
   ]
  },
  {
   "cell_type": "code",
   "execution_count": 169,
   "metadata": {},
   "outputs": [
    {
     "name": "stdout",
     "output_type": "stream",
     "text": [
      "4.0\n",
      "\n",
      "1.2909944487358056\n",
      "\n",
      "1.6666666666666667\n",
      "\n",
      "4.0\n",
      "\n"
     ]
    }
   ],
   "source": [
    "# Mean or average\n",
    "\n",
    "ex7 = [2,4,3,6,4,5]\n",
    "\n",
    "print( np.mean(ex7) )         \n",
    "print()\n",
    "\n",
    "# Standard deviation\n",
    "\n",
    "print( np.std(ex7) )       # log to base 2     \n",
    "print()\n",
    "\n",
    "print( np.var(ex7) )       # log to base 2     \n",
    "print()\n",
    "\n",
    "print( np.median(ex7) )       # log to base 2     \n",
    "print()"
   ]
  }
 ],
 "metadata": {
  "kernelspec": {
   "display_name": "Python 3",
   "language": "python",
   "name": "python3"
  },
  "language_info": {
   "codemirror_mode": {
    "name": "ipython",
    "version": 3
   },
   "file_extension": ".py",
   "mimetype": "text/x-python",
   "name": "python",
   "nbconvert_exporter": "python",
   "pygments_lexer": "ipython3",
   "version": "3.7.3"
  }
 },
 "nbformat": 4,
 "nbformat_minor": 2
}
