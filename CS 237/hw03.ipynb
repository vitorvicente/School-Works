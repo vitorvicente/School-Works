{
 "cells": [
  {
   "cell_type": "markdown",
   "metadata": {},
   "source": [
    "# CS 237 Spring 2020   Homework Three\n",
    "\n",
    "### Due date: Thursday February 13th @ Midnight in GradeScope with 6-hour grace period\n",
    "\n",
    "### Late deadline:  If submitted up to 24 hours late, you will receive a 10% penalty (with same 6 hour grace period)\n",
    "\n",
    "### General Instructions\n",
    "\n",
    "Please complete this notebook by filling in solutions where indicated. Be sure to \"Restart Kernel and Run All\" from the Cell menu before submitting. \n",
    "\n",
    "There are two sections to the homework: problems 1 - 8 are analytical problems about last\n",
    "week's material, and the remaining problems are coding problems which will be discussed in lab. "
   ]
  },
  {
   "cell_type": "code",
   "execution_count": 2,
   "metadata": {},
   "outputs": [],
   "source": [
    "# Here are some imports which will be used in code that we write for CS 237\n",
    "\n",
    "# Imports used for the code in CS 237\n",
    "\n",
    "################   You may import some other standard libraries such as math\n",
    "################   but do not import anything else without permission from Prof Snyder\n",
    "\n",
    "import numpy as np                # arrays and functions which operate on array\n",
    "import matplotlib.pyplot as plt   # normal plotting\n",
    "import pandas as pd               # Data input and manipulation\n",
    "\n",
    "\n",
    "from collections import Counter\n",
    "\n",
    "%matplotlib inline \n",
    "\n",
    "\n",
    "# This draws a useful bar chart for the distribution of the list of integers in outcomes\n",
    "\n",
    "def draw_distribution_from_outcomes(outcomes, title='Probability Distribution', my_xticks = [], f_size = (8,6)):\n",
    "    plt.figure(figsize=f_size)\n",
    "    num_trials = np.size(outcomes)\n",
    "    X = range( int(min(outcomes)), int(max(outcomes))+1 )    # \n",
    "    freqs = Counter(outcomes)\n",
    "    Y = [freqs[i]/num_trials for i in X]\n",
    "    plt.bar(X,Y,width=1.0,edgecolor='black')\n",
    "    if my_xticks != []:\n",
    "        plt.xticks(X, my_xticks)\n",
    "    elif (X[-1] - X[0] < 30):\n",
    "        ticks = range(X[0],X[-1]+1)\n",
    "        plt.xticks(ticks, ticks) \n",
    "    plt.xlabel(\"Outcomes\")\n",
    "    plt.ylabel(\"Probability\")\n",
    "    plt.title(title)\n",
    "    plt.show()\n",
    "    \n",
    "# Example of use\n",
    "\n",
    "#draw_distribution_from_outcomes([1,4,3,5,4,6,2,4,3,5,4])\n",
    "\n",
    "# This function takes a list of outcomes and a list of probabilities and\n",
    "# draws a chart of the probability distribution.\n",
    "# It allows labels for x axis with numbers or strings; for the latter, you\n",
    "# still need to give the numeric labels, but can overwrite them with your string labels. \n",
    "\n",
    "def draw_distribution_from_prob_space(Rx, fx, title='Probability Distribution', my_xticks = [], f_size = (8,6)):\n",
    "    plt.figure(figsize=f_size)\n",
    "    plt.bar(Rx,fx,width=1.0,edgecolor='black')\n",
    "    plt.ylabel(\"Probability\")\n",
    "    plt.xlabel(\"Outcomes\")\n",
    "    if my_xticks != []:\n",
    "        plt.xticks(Rx, my_xticks)\n",
    "    elif (Rx[-1] - Rx[0] < 30):\n",
    "        ticks = range(Rx[0],Rx[-1]+1)\n",
    "        plt.xticks(ticks, ticks)  \n",
    "    plt.title(title)\n",
    "    plt.show()\n",
    "    \n",
    "# Example of use\n",
    "    \n",
    "#draw_distribution_from_prob_space([1,2,3,4], [0.25,0.35,0.15,0.25])\n",
    "\n",
    "p = 0.14159234368\n",
    "\n",
    "#                                                                                   ||||||||||||||||\n",
    "# Notice how we gave strings as labels for the outcomes:                            vvvvvvvvvvvvvvvv\n",
    "\n",
    "#draw_distribution_from_prob_space( [0,1], [p,1.0-p],\"Distribution for Unfair Coin\", ['Heads','Tails'],(5,4))\n",
    "    \n",
    "#print(\"P(heads) =\", np.around(p,4)) "
   ]
  },
  {
   "cell_type": "markdown",
   "metadata": {},
   "source": [
    "## Analytical Problems Introduction\n",
    "\n",
    "Some of these problems concern the familiar experiment of throwing two dice\n",
    "and counting the number of dots that show on both.  It is always a good idea to\n",
    "draw the search space if possible, so here is a diagram such as I put on the board;\n",
    "this also shows you how to make tables in Markdown cells!\n",
    "\n",
    "\n",
    "|    |  1  |  2  |  3 |  4  |  5  |  6  | \n",
    "|----|-----|-----|----|-----|-----|-----|\n",
    "|  1 |  2  |  3  |  4 |  5  |  6  |  7  | \n",
    "|  2 |  3  |  4  |  5 |  6  |  7  |  8  | \n",
    "|  3 |  4  |  5  |  6 |  7  |  8  |  9  | \n",
    "|  4 |  5  |  6  |  7 |  8  |  9  |  10 | \n",
    "|  5 |  6  |  7  |  8 |  9  | 10  |  11 | \n",
    "|  6 |  7  |  8  |  9 |  10 | 11  |  12 | \n",
    "\n",
    "\n",
    "\n",
    "### Note on format of numeric answers.\n",
    "\n",
    "Small fractions are fine, as long as they are reduced (no common factors between the numerator and denominator)\n",
    "and not too complicated.  So 1/2, 3/8, and 5/32 are fine, but 1215/1944 (= 3/8) is not. \n",
    "\n",
    "There is no need to use Python to do the calculations or formatting for the analytical problems, although\n",
    "sometimes it is helpful to check your calculations.  You can insert a Code cell temporarily somewhere\n",
    "and type in the expression and cut and paste your answer into the Markdown cell with your solution. \n",
    "\n",
    "The goal is to make it easy for the graders to do their job.  No one benefits from your\n",
    "work if they can not understand where the answer is or what value is actually being represented. \n",
    "\n",
    "\n",
    "\n",
    "### Note on choosing randomly\n",
    "\n",
    "There are two ways to choose objects from a collection in probability: with replacement and without replacement:\n",
    "\n",
    "  - **With Replacement**:  After an object, such as a playing card, is selected from a collection (such as a deck of cards), it is put back into the collection before the next selection. This is the usual situation when choosing virtual objects such as letter and numbers. In general, the probabilities of various events do not change as objects are chosen, because by putting the object back, you are ensuring that each choice is independent.  \n",
    "  \n",
    "  \n",
    "  - **Without Replacement**:  After the object is selected, it is NOT put back into the collection. This is the usual situation in card games, where the dealer chooses cards to distribute to the players, and they are given to the players, and not put back in the deck. In general, the probability of events will change, as the sample set is changed by the removal of one object. The choices are NOT independent. "
   ]
  },
  {
   "cell_type": "markdown",
   "metadata": {},
   "source": [
    "## Problem 1 \n",
    "\n",
    "Suppose you roll two fair dice and count the number of dots showing on each. Let us denote these by $d_1$ and $d_2$ and define the following events:\n",
    "\n",
    "   A = \"There is a total of 5 dots showing\" ($d_1 + d_2 = 5$);  \n",
    "   \n",
    "   B = \"The second roll is not 3\" ($d_2 \\ne 3$); \n",
    "   \n",
    "   C = \"The two rolls show a different number of dots\" ($d_1 \\ne d_2$); and\n",
    "   \n",
    "   D = \"Both dice show an odd number of dots (both $d_1$ and $d_2$ are odd numbers). \n",
    "\n",
    "(A)  Give $P(\\,A\\,|\\,B\\,).$\n",
    "\n",
    "\n",
    "(B)  Give $P(\\,A\\,|\\,C\\,).$\n",
    "\n",
    "\n",
    "(C)  Give $P(\\,(A\\cap B)\\,|\\,C\\,).$\n",
    "\n",
    "\n",
    "(D)  Give $P(\\,C\\,|\\,(B\\cup D)\\,).$\n",
    "\n",
    "(E)  There are ${ 4 \\choose 2 } = 6$ possible choices of two different events, if order is\n",
    "ignored (so these are sets): $\\{A, B\\}$, $\\{A, C\\}$, etc. \n",
    "Which of these, if any, are independent?  (You will need to consider all 6 pairs, but you only\n",
    "have to write down your justification for the independent ones you list; no need to prove that the others are\n",
    "dependent.)\n",
    "\n",
    "You must show all your reasoning (within reason) for full credit. For example, in the last problem, simply\n",
    "listing a pair without any justification looks like a guess and will receive no credit. \n"
   ]
  },
  {
   "cell_type": "markdown",
   "metadata": {},
   "source": [
    "<b>Solution:</b>\n",
    "<p><b>(A)</b></p>\n",
    "<p>Since we cannot have a 3 on d2, then we are left with two possible combinations: (3, 2) and (4, 1)</p>\n",
    "<p>With this in mind, we have 2 out of 6 possibilities on each dice, and since they are independent our probability is: $\\frac{2}{6} \\times \\frac{2}{6} = \\frac{1}{9}$</p>\n",
    "\n",
    "\n",
    "<p><b>(B)</b></p>\n",
    "<p>Following the same previous logic, we have those two combinations, plus the additional combination where d2 = 3: (3, 2) and (4, 1) and (2, 3)</p>\n",
    "<p>With this in mind, we now need to see what the possabilities are for C, of which there are: 30 </p>\n",
    "<p>As such, we are left with 3 choices ouf of 30 or: $\\frac{1}{10}$\n",
    "    \n",
    "    \n",
    "<p><b>(C)</b></p>\n",
    "<p>Since the available options don't actually have equal values on both dots, we still have the two different choices presented in A: (3, 2) and (4, 1)</p>\n",
    "<p>With this in mind, we now need to see what the possabilities are for C, of which there are: 30 </p>\n",
    "<p>As such, we have 2 options in 30 for this or: $\\frac{1}{15}$</p>\n",
    "\n",
    "\n",
    "<p><b>(D)</b></p>\n",
    "<p>First lets figure out what this means, for D and B to be truth, then d1 can show 1, 3 and 5, and d2 can show 1 and 5. Meaning we are left with the following combinations: (1, 1), (1, 5), (3, 1), (3, 5), (5, 1), (5, 5)</p>\n",
    "<p>With this in mind, and considering that we cannot have two of the same values showing, then we are left with the following possible combinations: (1, 5), (3, 1), (3, 5), (5, 1)</p>\n",
    "<p>As such, our probability is: $\\frac{4}{6} = \\frac{1}{3}$</p>\n",
    "\n",
    "\n",
    "<p><b>(E)</b></p>\n",
    "<p>The only two events that don't depend on each other are A and C, as there is no member in A that has two members that are equal (ie: 2,3; 3,2; 4,1).</p>\n",
    "<p>Any other two events are dependent in some way</p>\n"
   ]
  },
  {
   "cell_type": "markdown",
   "metadata": {},
   "source": [
    "## Problem 2 \n",
    "\n",
    "The Jack of Spades, Jack of Hearts, Queen of Spades, and Queen of Hearts are taken from a deck of cards. The four cards are shuffled and two cards are selected from the deck (without replacement). \n",
    "\n",
    "Let A = \"Both of the cards you selected are Queens.\"   For (A) - (D), give $P(A)$ under each\n",
    "of these conditions.  All these problems are to be considered separately. \n",
    "\n",
    "(A) Suppose the first card is a Queen.  \n",
    "\n",
    "(B) Suppose that the second card drawn is a Queen, but you don't know what the first card is. (So, the point is, is this different from A?)\n",
    "\n",
    "(C) Suppose at least one of the cards is a Queen.  \n",
    "\n",
    "(D) Suppose that one of the cards is the Queen of Spades. \n",
    "\n",
    "(E) Suppose when you draw the first card you throw it away without looking at it. You don't know what it was. What is the probability that the second card is a Queen?   (Note that this is NOT the same problem as(B).)\n"
   ]
  },
  {
   "cell_type": "markdown",
   "metadata": {
    "collapsed": true
   },
   "source": [
    "<b>Solution:</b>\n",
    "\n",
    "\n",
    "<p><b>(A)</b></p>\n",
    "<p>$\\frac{1}{3}$</p>\n",
    "\n",
    "<p><b>(B)</b></p>\n",
    "<p>$\\frac{2}{3}$</p>\n",
    "\n",
    "<p><b>(C)</b></p>\n",
    "<p>$\\frac{1}{2}$</p>\n",
    "\n",
    "<p><b>(D)</b></p>\n",
    "<p>$\\frac{1}{4}$</p>\n",
    "\n",
    "<p><b>(E)</b></p>\n",
    "<p>$\\frac{1}{3}$</p>"
   ]
  },
  {
   "cell_type": "markdown",
   "metadata": {},
   "source": [
    "## Problem 3\n",
    "\n",
    "A sack contains 100 coins, of which we know that 99 are fair coins. For the 100th coin, there is a 0.5 chance that the coin is fair, and a 0.5 chance that it is a trick coin with two heads. \n",
    "\n",
    "(A) Suppose we choose 4 coins from the sack (without replacement). What is the probability that we will choose a double-headed coin among the 4?\n",
    "\n",
    "(B)  Suppose we choose a coin from the sack and flip it. What is the probability that it will land heads?\n",
    "\n",
    "(C)  Suppose we choose a coin from the sack and flip it 7 times, and it lands heads all 7 times. What is the probability that it was a double-headed coin?"
   ]
  },
  {
   "cell_type": "markdown",
   "metadata": {},
   "source": [
    "<b>Solution:</b> \n",
    "\n",
    "<p><b>(A)</b></p>\n",
    "<p>Since we have 4 attempts, the probability is $\\frac{4}{100}$</p>\n",
    "\n",
    "<p><b>(B)</b></p>\n",
    "<p>99 times out of 100 the chance is 0.5, on the other time, there is a 0.5 chance its 0.5 and a 0.5 chance that it's one, so we get this math: $\\frac{0.5 \\times 99 + 0.25 + 0.5}{100} = 0.5025$</p>\n",
    "\n",
    "<p><b>(C)</b></p>\n",
    "<p>The second even is independant from the first one, as although unlikely, there is still a $\\frac{1}{128}$ chance for it to happen. This said, the chance of the coin being the unfair one is still $\\frac{1}{99} \\times 0.5 = 0.005$</p>"
   ]
  },
  {
   "cell_type": "markdown",
   "metadata": {},
   "source": [
    "## Problem 4 \n",
    "\n",
    "For three events A, B, and C, we know that\n",
    "\n",
    "  - A and C are independent,\n",
    "  - B and C are independent,\n",
    "  - A and B are disjoint,\n",
    "\n",
    "Furthermore, suppose that $P(A\\cup C)\\, =\\, \\frac{2}{3},\\, P(B\\cup C)\\,=\\,\\frac{3}{4},\\, P(A\\cup B\\cup C)\\,=\\,\\frac{11}{12}.$ \n",
    "\n",
    "Find $P(A)$, $P(B)$, and $P(C)$."
   ]
  },
  {
   "cell_type": "markdown",
   "metadata": {},
   "source": [
    "<b>Solution:</b>\n",
    "\n",
    "<p>To start off with, lets define that, according to the basic rules of probability: $P(A \\cup B \\cup C) = P(A \\cup C) + P(B \\cup C) - P(C)$, as A and B are disjoint, and in counting the first two we added C twice.</p>\n",
    "\n",
    "<p>With that out of the way we reach that $ P(A\\cup B\\cup C) = \\frac{11}{12} \\equiv \\frac{2}{3} + \\frac{3}{4} - P(C) = \\frac{11}{12} \\equiv P(C) = \\frac{17}{12} - \\frac{11}{12} = \\frac{6}{12} = \\frac{1}{2}$</p>\n",
    "\n",
    "<p>Now we can calculate the other probabilities, as $ P(A\\cup C) = P(A) + P(C) - P(A) \\times P(C)$ so, applying our values we get that $\\frac{2}{3} = P(A) + 0.5 - 0.5 \\times P(A) \\equiv \\frac{1}{6} = 0.5 \\times P(A) \\equiv P(A) = \\frac{1}{12}$</p>\n",
    "\n",
    "<p>Applying the the some logic to get P(B), $ P(B\\cup C) = P(B) + P(C) - P(B) \\times P(C) \\equiv \\frac{3}{4} = P(B) + 0.5 - 0.5 \\times P(B) \\equiv \\frac{1}{4} = 0.5 \\times P(B) \\equiv P(B) = \\frac{1}{8}$</p>"
   ]
  },
  {
   "cell_type": "markdown",
   "metadata": {},
   "source": [
    "## Problem 5\n",
    "\n",
    "You randomly shuffle a 52-card deck of cards. We will consider what happens \n",
    "as we draw 3 cards from the deck to form a sequence of cards (for A and B) or a set of cards (C).\n",
    "In other words, do we consider the ordering of the cards or not?\n",
    "\n",
    "Answer each of the following questions, showing all relevant calculations. \n",
    "You should analyze these using tree diagrams, but no need to show the diagrams\n",
    "in your answer. \n",
    "\n",
    "(A) Suppose you draw three cards from the deck, observing what card was drawn, and then putting it back in the deck before the next draw (i.e., \"with replacement\"); what is the probability that the first card is red, the second is a spade, and the third is a face card (Jack, Queen, or King)?  [Hint: these are ordered!]\n",
    "\n",
    "(B) Suppose you draw three cards from the deck with replacement; what is the probability that the first and third cards have the same color, but the second is a different color?  \n",
    "\n",
    "(C) Suppose you draw three cards from the deck WITHOUT replacement; what is the probability that you get two cards of one color, and a third card of a different\n",
    "color?  (In other words, this is the same as (B), but without replacement, and\n",
    "you don't care about the order of the cards: they are a set.)\n",
    "\n",
    "[Hint: a tree diagram might be useful.]\n",
    "\n",
    "\n",
    "\n"
   ]
  },
  {
   "cell_type": "markdown",
   "metadata": {},
   "source": [
    "<b>Solution:</b>\n",
    "\n",
    "<p><b>(A)</b></p>\n",
    "<p>$\\frac{1}{2} \\times \\frac{1}{4} \\times \\frac{4}{13} = \\frac{1}{26}$</p>\n",
    "\n",
    "<p><b>(B)</b></p>\n",
    "<p>By drawing out the diagram we get that there are 4 draws where this happens (RRR) (RBR) (BRB (BBB), and since we are putting the cards back, the chance of drawing any color is always half, so by multiplying we get that each of these has a $\\frac{1}{8}$ chance, meaning that the entire event together has a 0.5 chance.</p>\n",
    "\n",
    "<p><b>(C)</b></p>\n",
    "<p>Applying the same logic as above, we get that the following are our options (RBR) (BRB). Since we don't replace what we took, then the chances for each of these events are 0.12 each, meaning that in total this event has a 0.24 chance</p>\n",
    "\n"
   ]
  },
  {
   "cell_type": "markdown",
   "metadata": {},
   "source": [
    "## Problem 6\n",
    "\n",
    "You have two bags of colored balls. Bag A contains 3 red and 2 black balls;\n",
    "and Bag B contains 1 red ball and 5 black balls. Both bags are shaken so that they\n",
    "are in random order but the bags are kept separate. \n",
    "\n",
    "Answer each of the following questions, showing all relevant calculations. \n",
    "If necessary, analyze these using a tree diagram, but no need to show the diagram\n",
    "in your answer unless you like diagrams.  \n",
    "\n",
    "\n",
    "(a) Suppose you draw a ball from Bag A and find it is red; then you draw a ball from Bag B and\n",
    "find that it is black; you throw all the balls from both bags into a third bag, shake it, and\n",
    "draw a ball.  What is the probability that it is black?\n",
    "\n",
    "(b) Suppose you flip a fair coin to choose one of the bags, and then draw one ball. \n",
    "What is the probability that it is red?\n",
    "\n",
    "(c)  Suppose you tell a friend to flip a fair coin to choose one of the bags, and then draw\n",
    "a ball without telling you which bag it came from; you see that it is red. \n",
    "What is the probability that it came from Bag A? \n",
    "\n",
    "\n"
   ]
  },
  {
   "cell_type": "markdown",
   "metadata": {},
   "source": [
    "<b>Solution:</b>\n",
    "\n",
    "<p><b>(A)</b></p>\n",
    "<p>If we take a red ball from BagA it still has 2 red and 2 black balls, and if we take a black ball from BagB it still has 1 red and 4 black balls, so if we put it together we have 3 red and 6 black, meaning you have a 2/3 chance of getting a black ball from the other bag.</p>\n",
    "\n",
    "<p><b>(B)</b></p>\n",
    "<p>The probability of getting a red ball from bag A would be the probability of picking A times the prob of getting the red ball in A, so we get a 0.3 chance.</p>\n",
    "<p>By this logic, getting bag B is also a 0.5 chance, and getting a red ball there is 1/6 chance, so we get a 0.083 chance</p>\n",
    "<p>By adding these we get a 0.383 chance of getting a red ball this way</p>\n",
    "\n",
    "<p><b>(C)</b></p>\n",
    "<p>So, by applying that logic, we know that 0.3 in 0.383 that its from bag A, so transforming this we get that there is a 0.78 chance of it coming from A.</p>"
   ]
  },
  {
   "cell_type": "markdown",
   "metadata": {},
   "source": [
    "## Problem 7 \n",
    "\n",
    "How many distinct (identical-looking) arrangements (permutations) of the word PROBABILITY are there if:\n",
    "\n",
    "(A) There are no restrictions other than the one discussed in lecture that the two 'B's look the same and the two 'I's look the same?\n",
    "\n",
    "(B) The arrangement must begin with a vowel and end in a consonant. \n",
    "\n",
    "(C) If you do not change the order of the vowels or consonants, that is, the arrangement must look like\n",
    "this:\n",
    "\n",
    ">     ...A...I...I...O...               # the ... represent 0 or more consonants\n",
    "\n",
    "if you only look at the vowels, and the same arrangement must look like this\n",
    "\n",
    ">      ...P...R...B...B...L...T...Y...     # the ... represent 0 or more vowels\n",
    "\n",
    "if you only look at the consonants. \n",
    "\n",
    "(D) The arrangement contains the substring `BABY`, that is, it looks like this:\n",
    "\n",
    ">      ...BABY...              \n",
    "\n"
   ]
  },
  {
   "cell_type": "markdown",
   "metadata": {},
   "source": [
    "<b>Solution:</b>\n",
    "\n",
    "<p><b>(A)</b></p>\n",
    "<p>$\\binom{11}{2} \\times \\binom{9}{2} \\times 7! = 9979200$</p>\n",
    "\n",
    "<p><b>(B)</b></p>\n",
    "<p>For this one, we have to take into account 4 different possibilities, one where the edges are I and B, one where one edge is I and the other isnt B, vice versa, and finally one where neither of these letters are on the edges.</p>\n",
    "<p>For the first one, you have $1 \\times 1 \\times 9! = 362800$ | For the second one, you get $1 \\times \\binom{5}{1} \\times \\binom{9}{2} \\times 7! = 907200$ | For the third, you get $1 \\times \\binom{2}{1} \\times \\binom{9}{2} \\times 7! = 362880$ | Finally for the last one you get $\\binom{2}{1} \\times \\binom{5}{1} \\times \\binom{9}{2} \\times \\binom{7}{2} \\times 5! = 907200$</p>\n",
    "<p>Adding these up we get 2540080</p>\n",
    "\n",
    "<p><b>(C)</b></p>\n",
    "<p>$\\binom{7}{2} \\times 5! \\times \\binom{4}{2} \\times 2 = 30240$</p>\n",
    "\n",
    "<p><b>(D)</b></p>\n",
    "<p>$\\binom{8}{1} \\times \\binom{7}{2} \\times 5! = 20160$</p>"
   ]
  },
  {
   "cell_type": "markdown",
   "metadata": {},
   "source": [
    "## Problem 8 \n",
    "\n",
    "In how many ways can 9 people { A, B, C, D, E, F, G, H, I } be seated at a round table if\n",
    "\n",
    "(A) B and F must not sit next to each other;\n",
    "\n",
    "(B) G, B, and E must sit together (i.e., no other person can sit between any of these three)?\n",
    "\n",
    "(C) A and B must sit together, but neither can be seated next to E, F, or G. \n",
    "\n",
    "Consider each of these separately. For (C) you may NOT simply list all possibilities, but must use the basic principles we have developed in lecture (you may check your work with a list if you wish). \n",
    "\n",
    "Hint: Conceptually, think of the groups of two or three people as one \"multi-person\" entity in the overall circular arrangement. However, a \"multiperson\" is an unordered entity, and you will have to think about how many ways a \"multiperson\" could be ordered. It may help to draw a diagram, fixing a particular person at the top of the circle (thereby eliminating the duplicates due to rotations)."
   ]
  },
  {
   "cell_type": "markdown",
   "metadata": {},
   "source": [
    "**Solution:**\n",
    "\n",
    "<p><b>(A)</b></p>\n",
    "<p>$1 \\times \\binom{7}{1} \\times 7! + \\binom{7}{1} \\times \\binom{7}{1} \\times 7! = 282240$</p>\n",
    "\n",
    "<p><b>(B)</b></p>\n",
    "<p>$\\binom{7}{1} \\times 6! = 5040$</p>\n",
    "\n",
    "<p><b>(C)</b></p>\n",
    "<p>$\\binom{2}{1} \\times \\binom{6}{3} \\times 4! + \\binom{6}{1} + \\binom{5}{3} + 4! = 1382400$</p>"
   ]
  },
  {
   "cell_type": "markdown",
   "metadata": {},
   "source": [
    "## Lab Introduction: Poker Probability\n",
    "\n",
    "In this lab we will explore Poker Probability, which is calculating the probability of various hands in the game of poker. This is, again, exploring how to confirm our theoretical understanding with experiments. If our experiments, as we increase the number of trials, converge to our theoretical calculation, then we have almost certainly analyzed it correctly. \n",
    "\n",
    "There are many versions of poker (see <a href=\"http://www.wikihow.com/Play-Poker\">here</a>) but the game we will study is called \"five-card draw.\" It is <a href=\"https://www.pokernews.com/strategy/5-card-draw-rules-how-to-play-five-card-draw-poker-23741.htm\">described</a> as follows:\n",
    "\n",
    "<blockquote>Once everyone has paid the ante, each player receives five cards face down. A round of betting then occurs. If more than one player remains after that first round of betting, there follows a first round of drawing. Each active player specifies how many cards he or she wishes to discard and replace with new cards from the deck. If you are happy with your holding and do not want to draw any cards, you “stand pat.”\n",
    "\n",
    "Once the drawing round is completed, there is another round of betting. After that if there is more than one player remaining, a showdown occurs in which the player with the best five-card poker hand wins.\n",
    "</blockquote>\n",
    "\n",
    "Here is an excellent short YT video on the basics of Poker: <a href=\"https://www.youtube.com/watch?v=xfqMC3G37VE\">YT</a>\n",
    "\n",
    "The only part we will care about is the final calculation of which hand wins: basically, the least probable hand wins.  When you learn poker, then, one of the first things you have to learn is the ordering of the hands from most to least likely. <i>Poker probability</i> refers to calculating the exact probabilities of hands. The <a href=\"https://en.wikipedia.org/wiki/Poker_probability\">Wikipedia article</a> contains the exact results and the formulae used to calculate them. \n",
    "\n",
    "In this lab we will develop a framework for dealing 5-card hands and empirically estimating the probabilites of various hands. In fact, we will be able to do nearly all the hands commonly encountered. Our only constraint is that for the rarest hand, a Royal Flush, since there are only 4 such hands, the probability is so small it would take too long to get a reasonable estimate, and so we shall ignore this case. \n",
    "\n",
    "This lab should help your understanding of the counting techniques covered in lecture this week and next.\n",
    "You do not need to know this material, however, to do the lab problems. "
   ]
  },
  {
   "cell_type": "markdown",
   "metadata": {},
   "source": [
    "## Preface: Card Games and Probability\n",
    "First we will first explore how to encode a standard deck of 52 playing cards, how to perform various tests on cards, and how to deal hands. To remind you, here is the illustration showing all the cards:\n",
    "<a href=\"http://www.cs.bu.edu/fac/snyder/cs237/images/PlayingCards.png\"> cards</a>."
   ]
  },
  {
   "cell_type": "code",
   "execution_count": 4,
   "metadata": {},
   "outputs": [
    {
     "name": "stdout",
     "output_type": "stream",
     "text": [
      "['2C' '2H' '2S' '2D' '3C' '3H' '3S' '3D' '4C' '4H' '4S' '4D' '5C' '5H'\n",
      " '5S' '5D' '6C' '6H' '6S' '6D' '7C' '7H' '7S' '7D' '8C' '8H' '8S' '8D'\n",
      " '9C' '9H' '9S' '9D' '10C' '10H' '10S' '10D' 'JC' 'JH' 'JS' 'JD' 'QC' 'QH'\n",
      " 'QS' 'QD' 'KC' 'KH' 'KS' 'KD' 'AC' 'AH' 'AS' 'AD']\n"
     ]
    }
   ],
   "source": [
    "# We will represent cards as a string, e.g., 'AC' will be Ace of Clubs\n",
    "\n",
    "# Denominations: 2, ..., 10,  'J' = Jack, 'Q' = Queen, 'K' = King, 'A' = Ace \n",
    "Denominations = np.array( ['2','3','4','5','6','7','8','9','10','J','Q','K','A'] )\n",
    "\n",
    "# Suits 'S' = Spades, 'H' = Hearts, 'D' = Diamonds, 'C' = Clubs  \n",
    "Suits = np.array( ['C', 'H', 'S', 'D'] )\n",
    "\n",
    "# Note that colors are determined by the suits (hearts and diamonds are red, others black,\n",
    "# so, AC is Black\n",
    "    \n",
    "# List comprehensions are a great way to avoid explicit for loops when creating lists\n",
    "\n",
    "Deck = np.array( [(d+s) for d in Denominations for s in Suits] )  # Note the double for loop\n",
    "\n",
    "print( Deck )\n",
    "\n"
   ]
  },
  {
   "cell_type": "markdown",
   "metadata": {},
   "source": [
    "### Numpy's choice function:  random sampling"
   ]
  },
  {
   "cell_type": "code",
   "execution_count": 5,
   "metadata": {},
   "outputs": [
    {
     "name": "stdout",
     "output_type": "stream",
     "text": [
      "5\n",
      "[6 1 4 4 4 2 4 6 3 5 1 1 5 3 2 1 2 6 2 6 1 2 5 4 1]\n",
      "[6 2 5 3 1]\n"
     ]
    }
   ],
   "source": [
    "# Randomly choose one member of a list or array\n",
    "\n",
    "print(  np.random.choice( [1,2,3,4,5,6] ) )\n",
    "\n",
    "# Vector version!  \n",
    "\n",
    "print(  np.random.choice( [1,2,3,4,5,6], 25 ) )\n",
    "\n",
    "#  You can also choose \"without replacement\" (the default is WITH replacement)\n",
    "\n",
    "print(  np.random.choice( [1,2,3,4,5,6], 5, replace=False))"
   ]
  },
  {
   "cell_type": "code",
   "execution_count": 6,
   "metadata": {},
   "outputs": [
    {
     "name": "stdout",
     "output_type": "stream",
     "text": [
      "['9C' 'JH' '4D' '10S' '2S']\n"
     ]
    }
   ],
   "source": [
    "# When dealing a hand in cards, the selection of cards is without replacement, that is, cards are removed from\n",
    "# the deck one by one and not put back. This can be simulated in the choice function by setting the replace \n",
    "# parameter to False. \n",
    "\n",
    "np.random.seed(0)\n",
    "\n",
    "def dealHand(withReplacement = False,size = 5):\n",
    "    return np.random.choice(Deck,size,withReplacement)                   # chooses a list of size elements  \n",
    "\n",
    "print( dealHand() )\n"
   ]
  },
  {
   "cell_type": "code",
   "execution_count": 7,
   "metadata": {},
   "outputs": [],
   "source": [
    "# extract the denomination and the suit from a card\n",
    "\n",
    "def denom(c):\n",
    "    return c[0:-1]\n",
    "\n",
    "def suit(c):\n",
    "    return c[-1]\n",
    "\n",
    "# The function rank(c) will simply return the position of the card c PLUS 2 in the list 2, 3, ...., K, A. This will be used in an essential\n",
    "# way in our code below. Although in the diagram given lecture, Ace is below 2, the Ace is actually considered to be ordered\n",
    "# above the King, for example in determining a straight, under \"Ace high rules.\" \n",
    "\n",
    "#  rank(2) = 2, ...., rank(10) = 10, rank(Jack) = 11, rank(Queen) = 12, rank(King) = 13, rank(Ace) = 14\n",
    "\n",
    "def rank(c):  \n",
    "    return (np.where(Denominations==denom(c))[0][0] ) \n",
    "\n",
    "# Now we want to identify various kinds of cards \n",
    "\n",
    "def isHeart(c):\n",
    "    return ( suit(c) == 'H')\n",
    "\n",
    "def isDiamond(c):\n",
    "    return ( suit(c) == 'D')\n",
    "\n",
    "def isClub(c):\n",
    "    return ( suit(c) == 'C')\n",
    "\n",
    "def isSpade(c):\n",
    "    return ( suit(c) == 'S')\n",
    "\n",
    "def isRed(c):\n",
    "    return ( isHeart(c) or isDiamond(c) )\n",
    "\n",
    "def isBlack(c):\n",
    "    return (not isRed(c))\n",
    "\n",
    "def isFaceCard(c):\n",
    "    return rank(c) >= 11 and rank(c) <= 13\n",
    "    "
   ]
  },
  {
   "cell_type": "markdown",
   "metadata": {},
   "source": [
    "## Example Problem: What is probability that a 5-card hand has exactly 3 red cards?\n",
    "Remember that in finite probability, for any event A, $$P(A) = \\frac{| A |}{|S|}.$$  Therefore, what we need to do in problems involving the probability of various kinds of hands in card games is to count the number of possible such hands, and divide by the total number of all possible hands. We developed analytical tools in lecture to do this, but here we are going to estimate it with repeated trials of dealing hands and testing for a given kind of hand. \n",
    "\n",
    "In general for all but the last problem, we will use 100,000 trials to get a reasonable estimate of the probability. Since 1/100000 = 0.00001 this means our resolution for experimental probabilities is 5 decimal places.  "
   ]
  },
  {
   "cell_type": "code",
   "execution_count": 8,
   "metadata": {
    "scrolled": true
   },
   "outputs": [
    {
     "name": "stdout",
     "output_type": "stream",
     "text": [
      "\n",
      "Probability of exactly 3 red cards in a 5-card hand: 0.3222\n"
     ]
    }
   ],
   "source": [
    "np.random.seed(0)\n",
    "\n",
    "num_trials = 10**5\n",
    "\n",
    "# Return True iff the number of red cards in the hand h is 3\n",
    "def threeRed(h):\n",
    "    redCards = [c for c in h if isRed(c)]\n",
    "    return (len(redCards) == 3)\n",
    "\n",
    "trials = [dealHand() for k in range(num_trials)]       # create list of 10000 hands randomly dealt\n",
    "\n",
    "if(num_trials <= 10):       # Just for this example, you don't need to do this unless you are debugging\n",
    "    print(trials)\n",
    "    \n",
    "hands =  [threeRed(h) for h in trials]                 # convert this to list of true and false values\n",
    "\n",
    "if(num_trials <= 10):\n",
    "    print(hands)\n",
    "    \n",
    "prob = hands.count(True) / num_trials                  # count the number of True values and divide by num_trials\n",
    "\n",
    "prob = np.around(prob,4)\n",
    "\n",
    "# probability for 100,000 trials should be close to analytical value of 0.3251\n",
    "\n",
    "print('\\nProbability of exactly 3 red cards in a 5-card hand: ' + str(prob))"
   ]
  },
  {
   "cell_type": "code",
   "execution_count": 9,
   "metadata": {},
   "outputs": [
    {
     "name": "stdout",
     "output_type": "stream",
     "text": [
      "\n",
      "Probability of exactly 3 red cards in a 5-card hand: 0.3222\n"
     ]
    }
   ],
   "source": [
    "# here is another way to do it, but it is a bit cryptic!\n",
    "\n",
    "# trials was calculated above\n",
    "\n",
    "np.random.seed(0)\n",
    "\n",
    "prob = sum( [1 for h in trials if threeRed(h)] ) / num_trials\n",
    "\n",
    "prob = np.around(prob,4)\n",
    "\n",
    "print('\\nProbability of exactly 3 red cards in a 5-card hand: ' + str(prob))"
   ]
  },
  {
   "cell_type": "code",
   "execution_count": 10,
   "metadata": {},
   "outputs": [
    {
     "name": "stdout",
     "output_type": "stream",
     "text": [
      "\n",
      "Probability of exactly 3 red cards in a 5-card hand: 0.3222\n",
      "\n",
      "Probability of exactly 3 red cards in a 5-card hand: 0.3222\n"
     ]
    }
   ],
   "source": [
    "# If you like cryptic, then you can put it all, including the calculation of trials in one line! \n",
    "# Here are two examples. Note: these run the experiment again,  so they won't match the previous 2 answers precisely.\n",
    "\n",
    "np.random.seed(0)\n",
    "\n",
    "prob = sum( [1 for h in [dealHand() for k in range(num_trials)] if threeRed(h)] ) / num_trials\n",
    "\n",
    "prob = np.around(prob,4)\n",
    "\n",
    "print('\\nProbability of exactly 3 red cards in a 5-card hand: ' + str(prob))\n",
    "\n",
    "np.random.seed(0)\n",
    "\n",
    "prob = sum( [1 for k in range(num_trials) if threeRed(dealHand())] ) / num_trials\n",
    "\n",
    "prob = np.around(prob,4)\n",
    "\n",
    "print('\\nProbability of exactly 3 red cards in a 5-card hand: ' + str(prob))\n"
   ]
  },
  {
   "cell_type": "code",
   "execution_count": 11,
   "metadata": {},
   "outputs": [
    {
     "name": "stdout",
     "output_type": "stream",
     "text": [
      "\n",
      "Probability of exactly 3 red cards in a 5-card hand:  0.3222\n"
     ]
    }
   ],
   "source": [
    "## Finally, constructing the lists each time is ok if they do not get too large, or\n",
    "## you are running too many trials, in which case, you should code this using counters\n",
    "## and NO list comprehensions. \n",
    "\n",
    "np.random.seed(0)\n",
    "\n",
    "num_3D = 0\n",
    "\n",
    "for k in range(num_trials):\n",
    "    if (threeRed(dealHand())):\n",
    "            num_3D += 1\n",
    "\n",
    "print('\\nProbability of exactly 3 red cards in a 5-card hand: ',np.around(num_3D / num_trials, 4))"
   ]
  },
  {
   "cell_type": "markdown",
   "metadata": {
    "collapsed": true
   },
   "source": [
    "## Example: What is probability that a 5-card hand has at least 3 Diamonds?"
   ]
  },
  {
   "cell_type": "code",
   "execution_count": 12,
   "metadata": {},
   "outputs": [
    {
     "name": "stdout",
     "output_type": "stream",
     "text": [
      "Probability of at least 3 diamonds in a 5-card hand: 0.0928\n"
     ]
    }
   ],
   "source": [
    "# Print out probability that a 5-card hand has 3, 4, or 5 diamonds.\n",
    "\n",
    "np.random.seed(0)\n",
    "\n",
    "def atLeast3Diamonds(h):\n",
    "    return (len([c for c in h if isDiamond(c)]) >= 3)\n",
    "\n",
    "trials = [dealHand() for k in range(10**5)] \n",
    "hands =  [atLeast3Diamonds(h) for h in trials]                 # convert this to list of true and false values\n",
    "prob = hands.count(True) / num_trials\n",
    "\n",
    "# Should be close to analytical value of 0.0928\n",
    "\n",
    "prob = np.around(prob,4)\n",
    "\n",
    "print('Probability of at least 3 diamonds in a 5-card hand: ' + str( prob ))"
   ]
  },
  {
   "cell_type": "markdown",
   "metadata": {},
   "source": [
    "## OK, YOUR TURN!\n",
    "\n",
    "For the following, you will calculate an approximation of the probability of almost all the common hands in Poker.\n",
    "If you wish to check your answers, look at the Wikipedia page on Poker Probability linked at the top of this notebook. \n",
    "\n",
    "You should run these for least $10^5$ trials; try to run these for as many trials\n",
    "as reasonable, and in this case you might want to print more significant digits, since your answer may be correct to more than 4 places. "
   ]
  },
  {
   "cell_type": "markdown",
   "metadata": {},
   "source": [
    "## Problem 9: What is probability of a flush in Poker?\n",
    "In Poker, a <i>flush</i> is 5 cards of the same suit, but excludes straight flushes and royal flushes; these, however, are so rare (there are only 40 of them in all), that they are around or below our resolution (0.00001), so we just will determine if all suits are the same. "
   ]
  },
  {
   "cell_type": "code",
   "execution_count": 16,
   "metadata": {},
   "outputs": [
    {
     "name": "stdout",
     "output_type": "stream",
     "text": [
      "0.002\n"
     ]
    }
   ],
   "source": [
    "# Print out probability that a 5-card hand has all the same suit\n",
    "\n",
    "np.random.seed(0)\n",
    "\n",
    "num_trials9 = 10**5\n",
    "\n",
    "def isFlush(c):               # probably you want to write this\n",
    "    cardType = suit(c[0])\n",
    "    \n",
    "    if (not (suit(c[1]) == cardType)):\n",
    "        return False\n",
    "    elif (not (suit(c[2]) == cardType)):\n",
    "        return False\n",
    "    elif (not (suit(c[3]) == cardType)):\n",
    "        return False\n",
    "    elif (not (suit(c[4]) == cardType)):\n",
    "        return False\n",
    "    else:\n",
    "        return True\n",
    "\n",
    "def probFlush(num_trials):\n",
    "    counter = 0\n",
    "    for k in range(num_trials):\n",
    "        c = dealHand()\n",
    "        if (isFlush(c)):\n",
    "            counter += 1\n",
    "    \n",
    "    return (counter / num_trials)\n",
    "\n",
    "p = probFlush(num_trials9)\n",
    "print(p)"
   ]
  },
  {
   "cell_type": "markdown",
   "metadata": {},
   "source": [
    "## Problem 10: What is probability of a straight in Poker?\n",
    "In poker, a <i>straight</i> a hand in which the ranks form a contiguous sequence, e.g., 2,3,4,5,6. The suits do not matter.  Also, for simplicity, we will use \n",
    "the \"<a href=\"https://en.wikipedia.org/wiki/List_of_poker_hands#Straight\">deuce-to-seven low rules</a>\" whereby the Ace must count as a  high card (above the King). This simplifies the calculation a little bit, since we can just sort the cards by rank and check if they are contiguous.\n"
   ]
  },
  {
   "cell_type": "code",
   "execution_count": 18,
   "metadata": {
    "scrolled": false
   },
   "outputs": [
    {
     "name": "stdout",
     "output_type": "stream",
     "text": [
      "0.00041\n"
     ]
    }
   ],
   "source": [
    "# Print out probability that a 5-card hand is a straight\n",
    "from collections import OrderedDict\n",
    "np.random.seed(0)\n",
    "\n",
    "num_trials10 = 10**5\n",
    "\n",
    "def isStraight(h):            # probably you want to write this\n",
    "    ranks = [0, 0, 0, 0, 0]\n",
    "    for k in range(0,4):\n",
    "        ranks[k] = rank(h[k])\n",
    "    \n",
    "    ranks.sort()\n",
    "    \n",
    "    if (len(ranks) != 5):\n",
    "        return False\n",
    "    \n",
    "    if (ranks[1] != ranks[0] + 1):\n",
    "        return False\n",
    "    if (ranks[2] != ranks[1] + 1):\n",
    "        return False\n",
    "    if (ranks[3] != ranks[2] + 1):\n",
    "        return False\n",
    "    if (ranks[4] != ranks[2] + 1):\n",
    "        return False\n",
    "    else:\n",
    "        return True\n",
    "    \n",
    "def probStraight(num_trials):\n",
    "    counter = 0\n",
    "    for k in range(num_trials):\n",
    "        c = dealHand()\n",
    "        if (isStraight(c)):\n",
    "            counter += 1\n",
    "    \n",
    "    return (counter / num_trials)\n",
    "\n",
    "\n",
    "p = probStraight(num_trials10)\n",
    "print(p)"
   ]
  },
  {
   "cell_type": "markdown",
   "metadata": {},
   "source": [
    "## Problem 11: Rank Signature of a poker hand\n",
    "\n",
    "Let us define the <i>rank signature</i> of a hand as an ordered histogram of the ranks occurring in the hand; that is, we count the frequency of the ranks occurring in the hand, and <i>order</i> this sequence. Here are some examples:\n",
    " - Five cards all of different ranks (e.g., Ace, 4, 2, King, 8): <code>[1,1,1,1,1]</code>\n",
    " - One pair, 2 cards of the same rank, and 3 more all of different ranks (e.g., 2,2,6,3,Ace): <code>[1,1,1,2]</code>\n",
    " - Two pair, 2 pairs (of different ranks) and one card of a different rank (e.g., 2,2,Ace,3,Ace): <code>[1,2,2]</code>\n",
    " - Full house, 2 cards of the same rank, and 3 cards of the same rank (e.g., 8,Jack,8,8,Jack): <code>[2,3]</code>\n",
    " \n",
    "Many poker hand can be defined solely in terms of the ranks involved. The importance of this concept is that once we write a function to estimate the probability of a given signature, we can then immediately calculate the probability of many different poker hands.\n",
    "\n",
    "For this problem you must write a function which calculate the probability that a 5-card hand has a given signature and verify it by calculating the probability of no two ranks being the same (first choose 5 different ranks, then consider all possible enumerations of suits):\n",
    "\n",
    "$$\\frac{\\binom{13}{5}* 4^5}{\\binom{52}{5}} = 0.5071$$\n",
    "\n",
    "\n",
    "Note: This is NOT the same as \"no pair/high card\" since in Poker, this hand means you don't have a flush or a straight (both of which have 5 cards of different rank). To find out the correct probability, you would need to subtract the possibility of a flush or a straight (or both, a straight-flush), which we will do in the next problem.  "
   ]
  },
  {
   "cell_type": "code",
   "execution_count": 32,
   "metadata": {},
   "outputs": [
    {
     "data": {
      "text/plain": [
       "0.46982"
      ]
     },
     "execution_count": 32,
     "metadata": {},
     "output_type": "execute_result"
    }
   ],
   "source": [
    "from collections import OrderedDict\n",
    "\n",
    "np.random.seed(0)\n",
    "\n",
    "num_trials11 = 10**5\n",
    "\n",
    "def getSignature(h):\n",
    "    ranks = [0, 0, 0, 0, 0]\n",
    "    for k in range(0,4):\n",
    "        ranks[k] = rank(h[k])\n",
    "    \n",
    "    rankings = Counter(ranks)\n",
    "    rankingsOrdered = OrderedDict(sorted(rankings.items(), key=lambda x: x[0]))\n",
    "    signature = list(rankingsOrdered.values())\n",
    "    \n",
    "    return signature\n",
    "    \n",
    "\n",
    "def has_rank_signature(h,rank_signature): \n",
    "    sig = getSignature(h)\n",
    "    \n",
    "    if (sig == rank_signature):\n",
    "        return True\n",
    "    else:\n",
    "        return False\n",
    "\n",
    "    \n",
    "\n",
    "def probability_of_rank_signature(rank_signature,num_trials):\n",
    "    counter = 0\n",
    "    for k in range(num_trials):\n",
    "        c = dealHand()\n",
    "        if (getSignature(c) == rank_signature):\n",
    "            counter += 1\n",
    "    \n",
    "    return (counter / num_trials)\n",
    "\n",
    "\n",
    "\n",
    "\n",
    "probability_of_rank_signature([1,1,1,1,1],num_trials11)"
   ]
  },
  {
   "cell_type": "markdown",
   "metadata": {},
   "source": [
    "## Problem 12: Using rank signature to calculate six different poker hands\n",
    "\n",
    "For the following, use $10^5$ trials in each case. "
   ]
  },
  {
   "cell_type": "code",
   "execution_count": 33,
   "metadata": {},
   "outputs": [],
   "source": [
    "num_trials12 = 10**5"
   ]
  },
  {
   "cell_type": "markdown",
   "metadata": {},
   "source": [
    "### Problem 12 (A): What is probability of No Pair/High Card in Poker?\n",
    "\n",
    "For this, you must use the rank signature of 5 different ranks (as in the previous problem). \n",
    "For this first one, you must calculate the cumulative probability (i.e., exclude straights\n",
    "and flushes). "
   ]
  },
  {
   "cell_type": "code",
   "execution_count": 35,
   "metadata": {},
   "outputs": [
    {
     "data": {
      "text/plain": [
       "0.46581"
      ]
     },
     "execution_count": 35,
     "metadata": {},
     "output_type": "execute_result"
    }
   ],
   "source": [
    "np.random.seed(0)\n",
    "\n",
    "def isNoPair(h):\n",
    "    if (isStraight(h) or isFlush(h)):\n",
    "        return False\n",
    "    elif (not (has_rank_signature(h,[1,1,1,1,1]))):\n",
    "        return False\n",
    "    else:\n",
    "        return True\n",
    "    \n",
    "def probNoPair(num_trials):\n",
    "    counter = 0\n",
    "    for k in range(num_trials):\n",
    "        c = dealHand()\n",
    "        if (isNoPair(c)):\n",
    "            counter += 1\n",
    "    \n",
    "    return (counter / num_trials)\n",
    "\n",
    "probNoPair(num_trials12)"
   ]
  },
  {
   "cell_type": "markdown",
   "metadata": {},
   "source": [
    "### Problem 12 (B): What is probability of One Pair in Poker?"
   ]
  },
  {
   "cell_type": "code",
   "execution_count": 36,
   "metadata": {},
   "outputs": [
    {
     "data": {
      "text/plain": [
       "0.44111"
      ]
     },
     "execution_count": 36,
     "metadata": {},
     "output_type": "execute_result"
    }
   ],
   "source": [
    "np.random.seed(0)\n",
    "\n",
    "def isOnePair(h):\n",
    "    if (has_rank_signature(h,[2,1,1,1])):\n",
    "        return True\n",
    "    elif (has_rank_signature(h,[1,2,1,1])):\n",
    "        return True\n",
    "    elif (has_rank_signature(h,[1,1,2,1])):\n",
    "        return True\n",
    "    elif (has_rank_signature(h,[1,1,1,2])):\n",
    "        return True\n",
    "    else:\n",
    "        return False\n",
    "\n",
    "\n",
    "def probOnePair(num_trials):\n",
    "    counter = 0\n",
    "    for k in range(num_trials):\n",
    "        c = dealHand()\n",
    "        if (isOnePair(c)):\n",
    "            counter += 1\n",
    "    \n",
    "    return (counter / num_trials)\n",
    "\n",
    "probOnePair(num_trials12)"
   ]
  },
  {
   "cell_type": "markdown",
   "metadata": {},
   "source": [
    "### Problem 12 (C): What is probability of Two Pairs in Poker?"
   ]
  },
  {
   "cell_type": "code",
   "execution_count": 37,
   "metadata": {},
   "outputs": [
    {
     "data": {
      "text/plain": [
       "0.05472"
      ]
     },
     "execution_count": 37,
     "metadata": {},
     "output_type": "execute_result"
    }
   ],
   "source": [
    "np.random.seed(0)\n",
    "\n",
    "def isTwoPair(h):\n",
    "    if (has_rank_signature(h,[2,2,1])):\n",
    "        return True\n",
    "    elif (has_rank_signature(h,[2,1,2])):\n",
    "        return True\n",
    "    elif (has_rank_signature(h,[1,2,2])):\n",
    "        return True\n",
    "    else:\n",
    "        return False\n",
    "\n",
    "\n",
    "def probTwoPair(num_trials):\n",
    "    counter = 0\n",
    "    for k in range(num_trials):\n",
    "        c = dealHand()\n",
    "        if (isTwoPair(c)):\n",
    "            counter += 1\n",
    "    \n",
    "    return (counter / num_trials)\n",
    "\n",
    "\n",
    "probTwoPair(num_trials12)"
   ]
  },
  {
   "cell_type": "markdown",
   "metadata": {},
   "source": [
    "### Problem 12 (D): What is probability of Three of a Kind in Poker?"
   ]
  },
  {
   "cell_type": "code",
   "execution_count": 38,
   "metadata": {},
   "outputs": [
    {
     "data": {
      "text/plain": [
       "0.03138"
      ]
     },
     "execution_count": 38,
     "metadata": {},
     "output_type": "execute_result"
    }
   ],
   "source": [
    "np.random.seed(0)\n",
    "\n",
    "def isTrio(h):\n",
    "    if (has_rank_signature(h,[3,1,1])):\n",
    "        return True\n",
    "    elif (has_rank_signature(h,[1,3,1])):\n",
    "        return True\n",
    "    elif (has_rank_signature(h,[1,1,3])):\n",
    "        return True\n",
    "    else:\n",
    "        return False\n",
    "\n",
    "\n",
    "def probTrio(num_trials):\n",
    "    counter = 0\n",
    "    for k in range(num_trials):\n",
    "        c = dealHand()\n",
    "        if (isTrio(c)):\n",
    "            counter += 1\n",
    "    \n",
    "    return (counter / num_trials)\n",
    "\n",
    "\n",
    "probTrio(num_trials12)"
   ]
  },
  {
   "cell_type": "markdown",
   "metadata": {},
   "source": [
    "### Problem 12 (E): What is probability of a Full House in Poker?\n"
   ]
  },
  {
   "cell_type": "code",
   "execution_count": 39,
   "metadata": {},
   "outputs": [
    {
     "data": {
      "text/plain": [
       "0.00209"
      ]
     },
     "execution_count": 39,
     "metadata": {},
     "output_type": "execute_result"
    }
   ],
   "source": [
    "np.random.seed(0)\n",
    "\n",
    "def isFullHouse(h):\n",
    "    if (has_rank_signature(h,[3,2])):\n",
    "        return True\n",
    "    elif (has_rank_signature(h,[2,3])):\n",
    "        return True\n",
    "    else:\n",
    "        return False\n",
    "\n",
    "\n",
    "def probFullHouse(num_trials):\n",
    "    counter = 0\n",
    "    for k in range(num_trials):\n",
    "        c = dealHand()\n",
    "        if (isFullHouse(c)):\n",
    "            counter += 1\n",
    "    \n",
    "    return (counter / num_trials)\n",
    "\n",
    "\n",
    "probFullHouse(num_trials12)"
   ]
  },
  {
   "cell_type": "markdown",
   "metadata": {},
   "source": [
    "## Problem 12 (F): What is probability of Four of a Kind in Poker?\n"
   ]
  },
  {
   "cell_type": "code",
   "execution_count": 40,
   "metadata": {},
   "outputs": [
    {
     "data": {
      "text/plain": [
       "0.0008"
      ]
     },
     "execution_count": 40,
     "metadata": {},
     "output_type": "execute_result"
    }
   ],
   "source": [
    "np.random.seed(0)\n",
    "\n",
    "def isQuartet(h):\n",
    "    if (has_rank_signature(h,[4,1])):\n",
    "        return True\n",
    "    elif (has_rank_signature(h,[4,1])):\n",
    "        return True\n",
    "    else:\n",
    "        return False\n",
    "\n",
    "\n",
    "def probQuartet(num_trials):\n",
    "    counter = 0\n",
    "    for k in range(num_trials):\n",
    "        c = dealHand()\n",
    "        if (isQuartet(c)):\n",
    "            counter += 1\n",
    "    \n",
    "    return (counter / num_trials)\n",
    "\n",
    "\n",
    "probQuartet(num_trials12)"
   ]
  },
  {
   "attachments": {
    "hw02.p10.fig1.png": {
     "image/png": "[encoded data removed]"
    },
    "hw02.p10.fig2.png": {
     "image/png": "[encoded data removed]"
    }
   },
   "cell_type": "markdown",
   "metadata": {},
   "source": [
    "## Optional Problem: No credit, but might be fun to do....\n",
    "\n",
    "(Based on a true story, more or less....)\n",
    "\n",
    "Wayne falls asleep watching an old Clint Eastwood movie at 4am after a bad encounter with a robot at the hospital, and then trying to finish a homework for 237. \n",
    "\n",
    "He dreams he is lying on the sidewalk after robbing a bank, which the evil robot at the hospital told him to do, in pain and mulling over how to quantify the uncertainty of his survival, when Dirty Harry walks over. Dirty Harry pulls out his 44 Magnum and puts two bullets opposite each other in the six slots in the cylinder (e.g., if you number them 1 .. 6 clockwise, he puts them in 1 and 4), spins the cylinder randomly, and, saying \"The question is, are you feeling lucky, probabalistically speaking, computer science punk?\" points it at Wayne's head and pulls the trigger.... \"CLICK!\" goes the gun (no bullet) and Dirty Harry smiles... \"How about that .... Let's see if this gun is memory-less!\" Without spinning the cylinder again, he points the gun at Wayne's head and pulls the trigger again.\n",
    "\n",
    "(a) What is the probability that (at least in my dream) you will have to have another instructor finish out CS 237 (because Wayne has a really BAD headache and can't continue)?\n",
    "\n",
    "(b) Now, suppose that when Dirty Harry put the bullets in the gun, he put them right next to each other (e.g., in slots 1 and 2). He spins it as usual. What is the probability in this case that you will have another instructor finish teaching CS 237?\n",
    "\n",
    "(c) Suppose Dirty Harry puts the bullets in two random positions in the cylinder and we don't have any idea where they are. He spins it as usual. Now what is the probability that I will not be able to finish teaching CS 237?\n",
    "\n",
    "Hint: This has nothing to do with the memory-less property (Dirty Harry never took CS 237) .... and we could solve it by just considering what the probability is for each of the patterns (no bullet, no bullet) and (no bullet, bullet) as we go around the circle of slots in the cylinder.\n",
    "\n",
    "Here is what the cylinder might look like in case (a) before Dirty Harry randomizes the positions by spinning it:\n",
    "\n",
    "![hw02.p10.fig1.png](attachment:hw02.p10.fig1.png)\n",
    "\n",
    "Here is what it might look like in case (b) before being randomized:\n",
    "\n",
    "![hw02.p10.fig2.png](attachment:hw02.p10.fig2.png)\n",
    "\n",
    "In case (c), of course, the bullets can be in any two slots.\n",
    "\n",
    "You may solve this using conditional probabilities, or by any other method you wish.\n",
    "\n"
   ]
  },
  {
   "cell_type": "markdown",
   "metadata": {},
   "source": [
    "<b>Solution:</b> \n"
   ]
  }
 ],
 "metadata": {
  "kernelspec": {
   "display_name": "Python 3",
   "language": "python",
   "name": "python3"
  },
  "language_info": {
   "codemirror_mode": {
    "name": "ipython",
    "version": 3
   },
   "file_extension": ".py",
   "mimetype": "text/x-python",
   "name": "python",
   "nbconvert_exporter": "python",
   "pygments_lexer": "ipython3",
   "version": "3.7.4"
  }
 },
 "nbformat": 4,
 "nbformat_minor": 2
}
