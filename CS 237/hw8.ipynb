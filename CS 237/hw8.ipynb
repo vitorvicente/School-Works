{
 "cells": [
  {
   "cell_type": "markdown",
   "metadata": {},
   "source": [
    "# CS 237 Fall 2020   Homework Eight\n",
    "\n",
    "\n",
    "### Due date: Due Friday April 3rd at midnight with 3 day grace period (until Monday midnight)\n",
    "\n",
    "### No late hws, I have to post the solutions!  \n",
    "\n",
    "### General Instructions\n",
    "\n",
    "Please complete this notebook by filling in solutions where indicated. Be sure to \"Run All\" from the Cell menu before submitting. \n"
   ]
  },
  {
   "cell_type": "code",
   "execution_count": 15,
   "metadata": {},
   "outputs": [
    {
     "name": "stdout",
     "output_type": "stream",
     "text": [
      "\n"
     ]
    }
   ],
   "source": [
    "# Here are some imports which will be used in code that we write for CS 237\n",
    "\n",
    "import matplotlib.pyplot as plt   # normal plotting\n",
    "import numpy as np\n",
    "import pandas as pd\n",
    "\n",
    "from math import log, pi, log, floor, ceil       # import whatever you want from math\n",
    "from random import seed, random\n",
    "from collections import Counter\n",
    "\n",
    "\n",
    "%matplotlib inline\n",
    "\n",
    "from scipy.special import comb\n",
    "           \n",
    "def C(N,K):    \n",
    "    return comb(N,K,True)     # just a wrapper around the scipy function\n",
    "\n",
    "\n",
    "def round4(x):\n",
    "    return np.around(x,4)\n",
    "\n",
    "\n",
    "# Here are the basic statistical functions we will use from numpy\n",
    "\n",
    "from numpy import mean, var, std, median\n",
    "\n",
    "L = [2,4,3,6,4,5]\n",
    "\n",
    "# mean value\n",
    "\n",
    "mean(L)          \n",
    "\n",
    "\n",
    "# Variance\n",
    "#  ddof = delta degrees of freedom, default is 0\n",
    "\n",
    "# population variance\n",
    "var(L)      \n",
    "\n",
    "# sample variance\n",
    "var(L,ddof=1)\n",
    "\n",
    "# Standard deviation\n",
    "#  ddof = delta degrees of freedom, default is 0\n",
    "\n",
    "# population standard deviation\n",
    "std(L)      \n",
    "\n",
    "# sample standard deviation\n",
    "std(L,ddof=1)  \n",
    "\n",
    "# Median\n",
    "\n",
    "median(L)  \n",
    "\n",
    "# Random sampling of `size` elements from list with or without replacement\n",
    "\n",
    "np.random.choice(L,size=1,replace=True)\n",
    "       \n",
    "# Scipy statistical functions\n",
    "\n",
    "from scipy.stats import norm, binom, expon, geom, poisson, gamma, nbinom, bernoulli                 \n",
    "\n",
    "# https://docs.scipy.org/doc/scipy/reference/stats.html\n",
    "\n",
    "#### Normal Distribution    #####\n",
    "\n",
    "######   Note that in this library loc = mean and scale = standard deviation  #####\n",
    "\n",
    "# Examples assume random variable X (e.g., housing prices) normally distributed with  mu = 60, sigma = 10\n",
    "\n",
    "# Probability Density Function    (really only useful for drawing the curve)\n",
    "#  f(x) = P(X == x)\n",
    "\n",
    "norm.pdf(x=50,loc=60, scale= 10)     \n",
    "\n",
    "# Cumulative Density Function\n",
    "#  F(x) = P(X < x)\n",
    "\n",
    "# Example:  Percentage of houses less than 50K. \n",
    "norm.cdf(x=50,loc=60,scale=10) \n",
    "\n",
    "# Example:  Find P(60<X<80)\n",
    "norm.cdf(x=80,loc=60,scale=40) - norm.cdf(x=60,loc=60,scale=40)\n",
    "\n",
    "# Survival Function: Simply 1 - CDF, i.e., P(X > x)\n",
    "\n",
    "# Example:  Percentage of houses more than 50K.\n",
    "norm.sf(x=50,loc=60,scale=10) \n",
    "\n",
    "# Percentage Point Function: Inverse of the CDF:\n",
    "# For what is the largest value of k for which P( X < k ) = q  ?\n",
    "\n",
    "# Example: What is the maximum cost of the 5% cheapest houses, \n",
    "# i.e., the x such that P(X < x) = 0.05?\n",
    "\n",
    "norm.ppf(q=0.05,loc=60,scale=40)\n",
    "\n",
    "# Inverse Survival Function: Inverse (1 - CDF):\n",
    "# For what is the smallest value of k for which P( X > k ) = q  ?\n",
    "\n",
    "# Example: What is the minimum cost of the 5% most expensive houses, \n",
    "# i.e., the x such that P(X > x) = 0.05?\n",
    "\n",
    "norm.isf(q=0.05,loc=60,scale=40)\n",
    "\n",
    "#   Give the endpoints of the interval (centered on the mean)\n",
    "#   which contain alpha/100 percent of the population (alpha is a probability)\n",
    "\n",
    "# Ex. Give the interval for the middle 75% of the houses\n",
    "\n",
    "norm.interval(alpha=0.75, loc=60, scale=40)\n",
    "\n",
    "# generate a random variate\n",
    "norm.rvs(loc=60, scale=40)\n",
    "\n",
    "# generate random variates, returns list of length = size\n",
    "norm.rvs(loc=60, scale=40, size=10)\n",
    "\n",
    "\n",
    "\n",
    "\n",
    "#####   Exponential Distribution     ########\n",
    "\n",
    "#####  loc = minimum value (leave at 0 always)               ##### \n",
    "#####  scale = mean = 1 / lambda (using textbook notation)   #####\n",
    "\n",
    "# Probability Density Function  f(x)       (Only useful for graphing and showing shape)\n",
    "\n",
    "lam = 4\n",
    "expon.pdf(x=5,loc=0, scale=1/lam)        # Must use 'scale = 1/lambda' to be consistent with textbook and lecture  \n",
    "\n",
    "# Cumulative Density Function\n",
    "#  F(x) = P(X < x)\n",
    "\n",
    "expon.cdf(x=5,loc=0,scale=1/lam) \n",
    "\n",
    "# Example:  Find P(6<X<8)\n",
    "expon.cdf(x=8,loc=0,scale=1/lam) - expon.cdf(x=6,loc=0,scale=1/lam)\n",
    "\n",
    "# Percentage Point Function: Inverse of the CDF:\n",
    "# For which value of x does P( X < x ) = q  ?\n",
    "\n",
    "expon.ppf(q=0.05,loc=0,scale=1/lam)\n",
    "\n",
    "# Survival Function: Simply 1 - CDF, i.e., P(X > x)\n",
    "\n",
    "expon.sf(x=5,loc=0,scale=1/lam) \n",
    "\n",
    "# Inverse Survival Function: Inverse (1 - CDF):\n",
    "# For what is the value of k for which P( X > k ) = q  ?\n",
    "\n",
    "expon.isf(q=0.05,loc=0,scale=1/lam)\n",
    "\n",
    "#g. generate a random variate\n",
    "expon.rvs(loc=0, scale=1/lam)\n",
    "\n",
    "#h. generate random variates, returns list of length = size\n",
    "expon.rvs(loc=0, scale=1/lam, size=10)\n",
    "\n",
    "# Same for Poisson, nbinom, gamma, bernoulli, etc. as shown here:\n",
    "\n",
    "##### Bernoulli Distribution  X ~ Bernoulli(p)  ####\n",
    "\n",
    "#  p = probability of success for Bernoulli trial\n",
    "\n",
    "# Generate a random variate\n",
    "bernoulli.rvs(p=0.5)\n",
    "\n",
    "# Generate a list of random variates\n",
    "bernoulli.rvs(p=0.5,size=100)\n",
    "\n",
    "##### Binomial Distribution  X ~ B(n,p)  ####\n",
    "\n",
    "#  n = number of independent Bernoulli trials\n",
    "#  p = probability of success for Bernoulli trial\n",
    "#  k = outcome in range [0 .. n]\n",
    "\n",
    "# Generate a random variate\n",
    "binom.rvs(n=10, p=0.5)\n",
    "\n",
    "# Generate a list of random variates\n",
    "binom.rvs(n=10, p=0.5,size=100)\n",
    "\n",
    "# Probability mass function.\n",
    "binom.pmf(k=4, n=10, p=0.5)\n",
    "\n",
    "# Cumulative distribution function\n",
    "binom.cdf(k=4, n=10, p=0.5)\n",
    "\n",
    "print()"
   ]
  },
  {
   "cell_type": "markdown",
   "metadata": {},
   "source": [
    "## Problem One (Sampling Theory) \n",
    "\n",
    "This problem considers three different ways of answering a question about samples from an infinite population. Suppose you flip a fair coin 120 times. What is the probability that 75 or more of the flips will be heads?\n",
    "\n",
    "(A) First solve this problem precisely using the binomial, showing your formula (you'll need to use Python -- look at the end of the previous cell above to see some useful functions). \n",
    "\n",
    "(B) Next, solve the problem by using the normal approximation to the binomial (using the continuity correction). \n",
    "\n",
    "Finally, we will solve this as a problem in sampling: let $X$ be a Bernoulli (each coin flip) and let \n",
    "\n",
    "$$\\overline{X} = {X_1 + \\cdots + X_{120})\\over 120},$$ so that by the CLT, $\\overline{X}\\sim N(\\mu,\\sigma^2)$\n",
    "for some mean $\\mu$ and variance $\\sigma^2$. \n",
    "\n",
    "(C) Give the mean $\\mu$ and variance $\\sigma^2$.\n",
    "\n",
    "(D)  Now calculate the answer using the CLT, using the continuity correction\n",
    "(where effectively the bins have width 1/120, so you should adjust the boundary by\n",
    "one half the width of the bin), and give the absolute percentage error (defined in problem 9 of hw 7).  \n",
    "\n",
    "Hint: You should get the same answer for (B) and (D); they will be close to, but not the same as, the \"ground truth\" answer in (A). "
   ]
  },
  {
   "cell_type": "code",
   "execution_count": 16,
   "metadata": {},
   "outputs": [
    {
     "name": "stdout",
     "output_type": "stream",
     "text": [
      "A:  0.0022\n",
      "\n",
      "B:  0.3144\n",
      "\n",
      "C: \n",
      "Mean:  0.5\n",
      "Variance:  0.5\n",
      "\n",
      "D:  0.3144\n"
     ]
    }
   ],
   "source": [
    "#A\n",
    "a1 = round(1 - binom.cdf(k=75, n=120, p=0.5),4)\n",
    "print(\"A: \", a1)\n",
    "print()\n",
    "\n",
    "#B\n",
    "b1 = round(norm.sf(x=74.5,loc=(120*0.5),scale=(0.5*0.5*120)),4)\n",
    "print(\"B: \", b1)\n",
    "print()\n",
    "\n",
    "#C\n",
    "mean1 = 0.5\n",
    "var1 = 0.5\n",
    "print(\"C: \")\n",
    "print(\"Mean: \", mean1)\n",
    "print(\"Variance: \", var1)\n",
    "print()\n",
    "\n",
    "#D\n",
    "d1 = np.round(norm.sf(x=(5/8 - ((1/120)*0.5)),loc=0.5,scale=0.25),4)\n",
    "print(\"D: \", d1)"
   ]
  },
  {
   "cell_type": "markdown",
   "metadata": {},
   "source": [
    "## Problem Two (Confidence Intervals) \n",
    "\n",
    "Suppose an experiment is conducted where 100 students at BU are measured and their average height is found to be 67.45 inches, and  the (sample) standard deviation to be 2.93 inches. Since 100 is a large sample, we use\n",
    "the sample standard deviation as an estimate of the population standard deviation. We may assume that heights are normally distributed.\n",
    "\n",
    "(A) Suppose that you want to report the 95.45...% confidence interval (i.e., exactly 2 standard deviations). Give the results of this experiment as described in lecture. \n",
    "\n",
    "(B) Now suppose you want to report the precisely 95.0% confidence interval (which will be slightly less than 2 standard deviations -- find out the exact figure) Repeat (A) using this confidence interval. \n"
   ]
  },
  {
   "cell_type": "markdown",
   "metadata": {},
   "source": [
    "#### A\n",
    "$Sample Size = 100$\n",
    "\n",
    "$CL = 95.45..%$\n",
    "\n",
    "$k = 2$\n",
    "\n",
    "$\\bar{x} = 67.45$\n",
    "\n",
    "$s = 2.93$\n",
    "\n",
    "$s_{\\bar{x}} = \\frac{2.93}{\\sqrt{100}} = 0.293$\n",
    "\n",
    "**The mean height of the population is 67.45 +/- 0.586 inches with a confidence of 95.45%**\n",
    "\n",
    "\n",
    "\n",
    "#### B\n",
    "$Sample Size = 100$\n",
    "\n",
    "$CL = 95.0%$\n",
    "\n",
    "$\\bar{x} = 67.45$\n",
    "\n",
    "$s = 2.93$\n",
    "\n",
    "$s_{\\bar{x}} = \\frac{2.93}{\\sqrt{100}} = 0.293$\n",
    "\n",
    "$k =$"
   ]
  },
  {
   "cell_type": "code",
   "execution_count": 17,
   "metadata": {},
   "outputs": [
    {
     "data": {
      "text/plain": [
       "array([-1.96,  1.96])"
      ]
     },
     "execution_count": 17,
     "metadata": {},
     "output_type": "execute_result"
    }
   ],
   "source": [
    "np.round(norm.interval(alpha=0.95,loc=0,scale=1),4)"
   ]
  },
  {
   "cell_type": "markdown",
   "metadata": {},
   "source": [
    "**The mean height of the population is 67.45 +/- 0.57428 inches with a confidence of 95%**"
   ]
  },
  {
   "cell_type": "markdown",
   "metadata": {},
   "source": [
    "## Problem Three (Confidence Intervals)\n",
    "\n",
    "Suppose we want to estimate the lifetime of Apple iPads. An experiment is done where we sample 300 iPads to see how long they last, and the mean of this sample is found to be 3245.9 hours and the sample standard deviation to be 548.82 hours. \n",
    "\n",
    "(A) Report the mean lifetime of Apple iPads at a 95% level of confidence.\n",
    "\n",
    "(B) Report the same at a 99% level of confidence."
   ]
  },
  {
   "cell_type": "code",
   "execution_count": 18,
   "metadata": {},
   "outputs": [
    {
     "name": "stdout",
     "output_type": "stream",
     "text": [
      "A:\n",
      "Sample Size:  300\n",
      "Average X:  3245.9\n",
      "Standard Deviation:  548.82\n",
      "Mean Standard Deviation:  31.686137473665042\n",
      "k:  1.96\n",
      "\n",
      "The mean lifetime of Apple iPads is 3245.9 +/- 62.1048 hours, with a confidence level of 95 %\n",
      "\n",
      "\n",
      "B:\n",
      "Sample Size:  300\n",
      "Average X:  3245.9\n",
      "Standard Deviation:  548.82\n",
      "Mean Standard Deviation:  31.686137473665042\n",
      "k:  2.5758\n",
      "\n",
      "The mean lifetime of Apple iPads is 3245.9 +/- 81.6172 hours, with a confidence level of 99 %\n"
     ]
    }
   ],
   "source": [
    "import math \n",
    "\n",
    "ss = 300\n",
    "avx = 3245.9\n",
    "s = 548.82\n",
    "sx = s / math.sqrt(ss)\n",
    "\n",
    "#A\n",
    "acl = 95\n",
    "l1 = np.round(norm.interval(alpha=0.95,loc=0,scale=1),4)\n",
    "ka = l1[1]\n",
    "print(\"A:\")\n",
    "print(\"Sample Size: \", ss)\n",
    "print(\"Average X: \", avx)\n",
    "print(\"Standard Deviation: \", s)\n",
    "print(\"Mean Standard Deviation: \", sx)\n",
    "print(\"k: \", ka)\n",
    "print()\n",
    "print(\"The mean lifetime of Apple iPads is\", avx, \"+/-\", (np.round(ka * sx,4)), \"hours, with a confidence level of\", acl, \"%\")\n",
    "print()\n",
    "print()\n",
    "\n",
    "\n",
    "#B\n",
    "bcl = 99\n",
    "l2 = np.round(norm.interval(alpha=0.99,loc=0,scale=1),4)\n",
    "kb = l2[1]\n",
    "print(\"B:\")\n",
    "print(\"Sample Size: \", ss)\n",
    "print(\"Average X: \", avx)\n",
    "print(\"Standard Deviation: \", s)\n",
    "print(\"Mean Standard Deviation: \", sx)\n",
    "print(\"k: \", kb)\n",
    "print()\n",
    "print(\"The mean lifetime of Apple iPads is\", avx, \"+/-\", (np.round(kb * sx,4)), \"hours, with a confidence level of\", bcl, \"%\")"
   ]
  },
  {
   "cell_type": "markdown",
   "metadata": {},
   "source": [
    "## Problem Three\n",
    "\n",
    "The GPAs for 4897 individuals from an institution of higher education in the northeastern United States is given in StudentGPAData.csv (the first column gives the Gender, and the second the GPA--you only need the GPA data).\n"
   ]
  },
  {
   "cell_type": "code",
   "execution_count": 19,
   "metadata": {},
   "outputs": [],
   "source": [
    "studs = pd.read_csv('http://www.cs.bu.edu/fac/snyder/cs237/Homeworks,%20Labs,%20and%20Code/data/StudentData.csv')\n",
    "gpaList = studs['GPA'].tolist()"
   ]
  },
  {
   "attachments": {
    "Screen%20Shot%202020-03-26%20at%205.55.19%20PM.png": {
     "image/png": "[encoded data removed]"
    }
   },
   "cell_type": "markdown",
   "metadata": {},
   "source": [
    "![Screen%20Shot%202020-03-26%20at%205.55.19%20PM.png](attachment:Screen%20Shot%202020-03-26%20at%205.55.19%20PM.png)"
   ]
  },
  {
   "cell_type": "markdown",
   "metadata": {},
   "source": [
    "We will use this data (just the list of GPAs) for exploring the various ideas presented in lecture about sampling theory and confidence intervals.  \n",
    "\n",
    "**You should use the scipy statistics functions (mean, var, std) shown in the code cell at the top of this document. Note carefully how population and sample standard deviations are calculated there.** \n",
    "\n",
    "(a) Calculate the mean and (population) standard deviation of this population and print them out to 4 decimal places. These are your benchmark values for the actual parameters of the population. \n",
    "\n",
    "(b) Write a function <code>getSample(n)</code> to generate ONE random sample of n samples from <code>gpaList</code>,  and return the sample mean and the sample standard deviation as a pair (see template below). Using the techniques developed in lecture, report on your estimation of the population mean using a confidence interval for 95% (NOT 95.14....%) confidence. Simply print out the confidence interval result for one random sample of size n = 30, as shown in lecture. (Do NOT use the data from (a) for this, remember, you are taking the sample because you supposedly can't get the whole population.) \n",
    "\n",
    "Hint: Use the function <code>numpy.random.choice(L,n,replace=True)</code>, which takes a list L and returns n random values, chosen equiprobably and with replacement. \n",
    "\n",
    "(c) Write a function <code>getInterval(CL,n)</code> which generates a random sample of size n and returns the bounds\n",
    "for the confidence interval for the mean with confidence level (percentage) CL. (Hint: You can use the function <code>norm.interval(...)</code> to calculate the multiplier $k$ in the confidence interval -- see the lecture slides!)\n",
    "\n",
    "If you use this function to generate a confidence interval, then it has successfully predicted the mean\n",
    "if the actual population mean found in (a) is inside this interval. If everything works properly, \n",
    "then for a large number of trials, this function should succeed about CL % of the time!\n",
    "\n",
    "Now run an experiment, with at least 10<sup>5</sup> trials/samples, and using CL = 95%, to determine what percentage of the trials successfully predicted the location of the actual mean. \n",
    "\n",
    "This may vary but you should usually get a probability close to 95%. Running more trials will improve the accuracy.....\n"
   ]
  },
  {
   "cell_type": "code",
   "execution_count": 20,
   "metadata": {},
   "outputs": [
    {
     "name": "stdout",
     "output_type": "stream",
     "text": [
      "3.1736 0.491\n"
     ]
    }
   ],
   "source": [
    "#A\n",
    "mean3 = np.round(mean(gpaList),4)\n",
    "std3 = np.round(std(gpaList),4)\n",
    "print(mean3, std3)"
   ]
  },
  {
   "cell_type": "code",
   "execution_count": 21,
   "metadata": {},
   "outputs": [
    {
     "name": "stdout",
     "output_type": "stream",
     "text": [
      "The mean gpa of the students at this university is 3.0777 +/- 0.1972 , with a confidence level of 95 %\n"
     ]
    }
   ],
   "source": [
    "def getSample(n):\n",
    "    l = np.random.choice(gpaList, n, replace=True)\n",
    "    return (mean(l), std(l))\n",
    "\n",
    "ss3 = 30\n",
    "(mean3a, std3a) = getSample(ss3)\n",
    "sx3 = std3a / math.sqrt(ss3)\n",
    "\n",
    "ccl = 95\n",
    "l3 = np.round(norm.interval(alpha=0.95,loc=0,scale=1),4)\n",
    "kc = l3[1]\n",
    "\n",
    "print(\"The mean gpa of the students at this university is\", np.round(mean3a,4), \"+/-\", (np.round(kc * sx3,4)), \", with a confidence level of\", ccl, \"%\")"
   ]
  },
  {
   "cell_type": "code",
   "execution_count": 22,
   "metadata": {},
   "outputs": [
    {
     "name": "stdout",
     "output_type": "stream",
     "text": [
      "1.0\n"
     ]
    }
   ],
   "source": [
    "def getInterval(CL, n):\n",
    "    (m, s) = getSample(n)\n",
    "    \n",
    "    k = np.round(norm.interval(alpha=(CL/100),loc=0,scale=1),4)\n",
    "    \n",
    "    return [m+k[0],m+k[1]]\n",
    "\n",
    "\n",
    "def testCases(num_trials1, cl):\n",
    "    count2 = 0\n",
    "\n",
    "    for i in range(num_trials1):\n",
    "        l = getInterval(cl, 100)\n",
    "        if (l[0] <= mean3 and l[1] >= mean3):\n",
    "            count2 += 1\n",
    "    \n",
    "    return np.round(count2/num_trials1,4)\n",
    "\n",
    "print(testCases(10**5, 95))"
   ]
  },
  {
   "attachments": {
    "Screen%20Shot%202020-03-28%20at%2012.35.26%20PM.png": {
     "image/png": "[encoded data removed]"
    },
    "Screen%20Shot%202020-03-28%20at%2012.35.40%20PM.png": {
     "image/png": "[encoded data removed]"
    },
    "Screen%20Shot%202020-03-28%20at%2012.55.18%20PM.png": {
     "image/png": "[encoded data removed]"
    }
   },
   "cell_type": "markdown",
   "metadata": {},
   "source": [
    "## Hypothesis Testing\n",
    "\n",
    "We will review hypothesis testing on Tuesday but you should be able to\n",
    "do the problems just fine if you read this section carefully. \n",
    "\n",
    "Recall that the Level of Significance (LOS) of a test is the probability,\n",
    "if you reject the hypothesis, that you will be wrong. \n",
    "\n",
    "For any distribution, we can define the three following critical regions of the PDF which\n",
    "indicate the extremes of the distribution whose area is equal to the LOS. When you do an experiment to test a hypothesis, then if your result ends up in one of these regions, you should **reject** the hypothesis; of course, you might be wrong because of the random nature of the experiment, but you will only be wrong LOS percent of the time!\n",
    "\n",
    "\n",
    "\n",
    "**Two-sided Critical Region:**  The probability/area of the LOS is distributed\n",
    "      equally at both extremes of the distribution (here, we assume LOS = 5%):\n",
    "      \n",
    "![Screen%20Shot%202020-03-28%20at%2012.35.40%20PM.png](attachment:Screen%20Shot%202020-03-28%20at%2012.35.40%20PM.png)      \n",
    "          \n",
    "**One-sided (Left) Critical Region:** The probability/area of the LOS is distributed\n",
    "      entirely at the leftmost extreme of the distribution (here, we assume LOS = 10%):\n",
    "      \n",
    "![Screen%20Shot%202020-03-28%20at%2012.55.18%20PM.png](attachment:Screen%20Shot%202020-03-28%20at%2012.55.18%20PM.png)\n",
    "\n",
    "**One-sided (Right) Critical Region:** The probability/area of the LOS is distributed\n",
    "      entirely at the rightmost extreme of the distribution (here, we assume LOS = 5%):\n",
    "    \n",
    "![Screen%20Shot%202020-03-28%20at%2012.35.26%20PM.png](attachment:Screen%20Shot%202020-03-28%20at%2012.35.26%20PM.png)\n",
    "\n",
    "Which one to use depends on the experiment, and what you are trying to find out.\n",
    "We will think about this for individual problems below and define which one to use.\n",
    "\n",
    "###  How to use critical regions in your hypothesis tests\n",
    "\n",
    "The procedure is then as follows:\n",
    "\n",
    "1. State your hypothesis (in the form $\\mu = k$ for some value $k$).\n",
    "2. Figure out which of the three types of critical region is appropriate.\n",
    "3. Give your LOS.\n",
    "4. Calculate where the boundaries of the critical region are, given the distribution\n",
    "   of the results of the experiment.\n",
    "5. Perform the experiment, and if the result ends up in a critical region, **reject the hypothesis** otherwise **fail** to reject the hypothesis. \n",
    "\n",
    "Hint on the calculations: In step 4, for a two-sided test, use the `interval` function from the `norm` library; for a one-sided, use either `ppf` or `isf`. \n"
   ]
  },
  {
   "cell_type": "markdown",
   "metadata": {},
   "source": [
    "## Problem Four (Hypothesis Testing)\n",
    "\n",
    "Suppose a random number generator for a Uniform Distribution in [0..1) is being tested.\n",
    "We know what the theoretical mean and standard deviation are supposed to be (because we know how to find the details by looking up the Uniform Distribution in Wikipedia). \n",
    "\n",
    "We generate 100 random values and find the mean to be 0.4365. Since the mean value could be too low or too high, this is a two-sided test. \n",
    "\n",
    "(A) Test this result with 5% LOS. Show all work (i.e., give the bound calculated in step 4). \n",
    "\n",
    "(B) Repeat the test with 1% LOS. Again, show all work. \n",
    "\n",
    "Hint: If you write this in Python code, you can just cut and paste your solution from (A), changing one number, to get the solution to (B). "
   ]
  },
  {
   "cell_type": "markdown",
   "metadata": {},
   "source": [
    "#### A\n",
    "Since the theoretical mean of a Uniform Distribution is 0.5, since we are using a Two Sided Critical Region with an LOS of 5%, we can calculate the boundaries for the intervals and we get:"
   ]
  },
  {
   "cell_type": "code",
   "execution_count": 23,
   "metadata": {},
   "outputs": [
    {
     "data": {
      "text/plain": [
       "array([0.01, 0.99])"
      ]
     },
     "execution_count": 23,
     "metadata": {},
     "output_type": "execute_result"
    }
   ],
   "source": [
    "np.round(norm.interval(alpha=0.95,loc=0.5,scale=0.25),4)"
   ]
  },
  {
   "cell_type": "markdown",
   "metadata": {},
   "source": [
    "Hence I have failed to reject the hypothesis, as the value is inside the parameters.\n",
    "\n",
    "#### B\n",
    "If we repeat this with the exact same values except a LOS of 1% we get that the boundaries are:"
   ]
  },
  {
   "cell_type": "code",
   "execution_count": 24,
   "metadata": {},
   "outputs": [
    {
     "data": {
      "text/plain": [
       "array([-0.144,  1.144])"
      ]
     },
     "execution_count": 24,
     "metadata": {},
     "output_type": "execute_result"
    }
   ],
   "source": [
    "np.round(norm.interval(alpha=0.99,loc=0.5,scale=0.25),4)"
   ]
  },
  {
   "cell_type": "markdown",
   "metadata": {},
   "source": [
    "Hence we have again failed to reject the hypothesis."
   ]
  },
  {
   "cell_type": "markdown",
   "metadata": {},
   "source": [
    "## Problem Five (Hypothesis Testing)\n",
    "\n",
    "Suppose in the advertizing, Apple claims that the pens last an average of 1600 hours. We wish to test this claim, and so we set\n",
    "\n",
    "$$H_0:\\,\\mu = 1600 \\text{  hours}$$ \n",
    "\n",
    "and  a level of significance \n",
    "\n",
    "$$\\alpha =  0.01.$$ \n",
    "\n",
    " We do an experiment where 200 Apple Pens are tested and the mean of the lifetimes is found to be 1575 hours with a  sample standard deviation of 120 hours. Since this is a large sample (>30) we may use the sample standard deviation in place of the population standard deviation.\n",
    "\n",
    "I really want to know is whether Apple is exaggerating, and the Pens actually have a lifetime much lower\n",
    "than hypothesized. Therefore we use a **one-sided (left)** critical region: if\n",
    "the pens perform really poorly, we will reject our hypothesis, but if they\n",
    "perform much better than expected, we will be satisfied and NOT reject. \n",
    "\n",
    "\n",
    "(A) Perform the test as just stated. Show all work, including the boundary of the critical region. \n",
    "\n",
    "(B) Repeat the experiment with all parameters the same except make the sample size n = 100. Show all work. \n",
    "\n"
   ]
  },
  {
   "cell_type": "markdown",
   "metadata": {},
   "source": [
    "#### A\n",
    "If we take as our LOS 1%, and hypothesis $H_0$, then we can see if it's inside the boundaries for our test using a one-sided critical region:"
   ]
  },
  {
   "cell_type": "code",
   "execution_count": 25,
   "metadata": {},
   "outputs": [
    {
     "data": {
      "text/plain": [
       "1598.6042"
      ]
     },
     "execution_count": 25,
     "metadata": {},
     "output_type": "execute_result"
    }
   ],
   "source": [
    "np.round(norm.ppf(q=0.01,loc=1600,scale=120/200),4)"
   ]
  },
  {
   "cell_type": "markdown",
   "metadata": {},
   "source": [
    "Since we can clearly see that the obtained value is lower than the boundarie, so we reject the hypothesis.\n",
    "\n",
    "\n",
    "#### B\n",
    "If we apply the same formula to a sample size of 100, we get that:"
   ]
  },
  {
   "cell_type": "code",
   "execution_count": 26,
   "metadata": {},
   "outputs": [
    {
     "data": {
      "text/plain": [
       "1597.2084"
      ]
     },
     "execution_count": 26,
     "metadata": {},
     "output_type": "execute_result"
    }
   ],
   "source": [
    "np.round(norm.ppf(q=0.01,loc=1600,scale=120/100),4)"
   ]
  },
  {
   "cell_type": "markdown",
   "metadata": {},
   "source": [
    "Once again the value obtained is lower than the one advertised, so we reject our hypothesis."
   ]
  },
  {
   "cell_type": "markdown",
   "metadata": {},
   "source": [
    "## Problem Six (Hypothesis Testing)\n",
    "\n",
    "Suppose I want to test if Zichen claims to have Extrasensory Perception (ESP), and \n",
    "that if I draw a card drawn randomly and with replacement from\n",
    "an ordinary deck of cards, he can guess the suit without seeing the card.\n",
    "\n",
    "I am sceptical and propose to test his claim.  I formulate the hypothesis that\n",
    "when he tells me the suit, he is just guessing and the probability of his getting\n",
    "it right is 25%. \n",
    "\n",
    "Therefore, I perform 100 trials where I shuffle the deck, draw a card, ask him to guess the suit, and then replace the card. \n",
    "\n",
    "I decide that since ESP is about guessing the card's suit correctly, I will make this a one-sided (right) test with LOS = 0.05. \n",
    "\n",
    "We perform the test and Zichen identifies 32 of the cards correctly. \n",
    "\n",
    "Now at this point, I realize that if I use the normal distribution, it will be an estimate, and I am not sure how well it will work, because B(100,0.25) is not symmetric. \n",
    "So I decide for maximum precision I'll use the binomial directly, but how to calculate an LOS that goes along with a *discrete* distribution (think about how to calculate the top 1% of B(3,1/2)!)? \n",
    "\n",
    "So I decide to reason backwards: I'll calculate $P(X > 32)$  and see if it is less than my LOS (which would mean it has to be in the critical region). \n",
    "\n",
    "\n",
    "\n",
    "(A) Perform the test as specified. Reject if $P(X > 32) < LOS$  and fail to reject otherwise. \n",
    "\n",
    "(B) What is the smallest number of cards Zichen would have to identify to\n",
    "make me reject my hypothesis at the 1% LOS?\n",
    "\n",
    "Hint: use `binom.cdf`.  "
   ]
  },
  {
   "cell_type": "markdown",
   "metadata": {},
   "source": [
    "#### A\n",
    "Using $H_0$ = P(X>32) = "
   ]
  },
  {
   "cell_type": "code",
   "execution_count": 27,
   "metadata": {},
   "outputs": [
    {
     "data": {
      "text/plain": [
       "0.0446"
      ]
     },
     "execution_count": 27,
     "metadata": {},
     "output_type": "execute_result"
    }
   ],
   "source": [
    "np.round(1 - binom.cdf(k=32, n=100, p=0.25),4)"
   ]
  },
  {
   "cell_type": "markdown",
   "metadata": {},
   "source": [
    "Using the logic above, $H_0 \\leq LOS$ so we reject the Hypothesis.\n",
    "\n",
    "\n",
    "#### B\n",
    "According to a few tests, the smallest number of cards he would have to guess for you to reject your hypothesis at the 1% LOS is: 35"
   ]
  },
  {
   "cell_type": "code",
   "execution_count": 34,
   "metadata": {},
   "outputs": [
    {
     "data": {
      "text/plain": [
       "0.0094"
      ]
     },
     "execution_count": 34,
     "metadata": {},
     "output_type": "execute_result"
    }
   ],
   "source": [
    "np.round(1 - binom.cdf(k=35, n=100, p=0.25),4)"
   ]
  },
  {
   "cell_type": "markdown",
   "metadata": {},
   "source": [
    "## Problem Seven (Exponential)\n",
    "\n",
    "In the following assume that we are dealing with Poisson processes and can use the exponential distribution.\n",
    "\n",
    "(a) Suppose that every three months , on average, an earthquake occurs in\n",
    "California. What is the probability that the next earthquake occurs after three but before\n",
    "seven months?\n",
    "\n",
    "(b) Suppose we model time to failure of TV tubes as an exponential random variable and that tubes fail on average after 10 years. \n",
    "If Jim bought his TV set 10 years ago, what is the probability that its tube\n",
    "will last another 10 years?\n",
    "\n",
    "Hint: Make sure in both these you understand the difference between the rate parameter $\\lambda$ (= mean number of arrivals per unit time) and $\\beta \\,=\\, 1/\\lambda$ (= mean interarrival time). "
   ]
  },
  {
   "cell_type": "markdown",
   "metadata": {},
   "source": [
    "#### A\n",
    "Let our unit of time be a month, so for A, $𝜆 = \\frac{1}{3}$ and $𝛽 = 3$, if we apply the formula for Poisson Random Variables we get that the probability of an earthquake to occur between 3-7 months is:"
   ]
  },
  {
   "cell_type": "code",
   "execution_count": 29,
   "metadata": {},
   "outputs": [
    {
     "data": {
      "text/plain": [
       "0.2709"
      ]
     },
     "execution_count": 29,
     "metadata": {},
     "output_type": "execute_result"
    }
   ],
   "source": [
    "np.round(expon.cdf(x=7,loc=0,scale=3) - expon.cdf(x=3,loc=0,scale=3),4)"
   ]
  },
  {
   "cell_type": "markdown",
   "metadata": {},
   "source": [
    "#### B\n",
    "With our unit of time being a year this time around, we have that: $𝜆 = \\frac{1}{10}$ and $𝛽 = 10$, so by pluging this into our formula again we get that:"
   ]
  },
  {
   "cell_type": "code",
   "execution_count": 30,
   "metadata": {},
   "outputs": [
    {
     "data": {
      "text/plain": [
       "0.2325"
      ]
     },
     "execution_count": 30,
     "metadata": {},
     "output_type": "execute_result"
    }
   ],
   "source": [
    "np.round(expon.cdf(x=20,loc=0,scale=10) - expon.cdf(x=10,loc=0,scale=10),4)"
   ]
  },
  {
   "cell_type": "markdown",
   "metadata": {},
   "source": [
    "## Problem Eight (Exponential)\n",
    "\n",
    "In the following assume that we are dealing with Poisson processes and can use the exponential distribution.\n",
    "\n",
    "(A)  Suppose that, on average, two earthquakes occur in San Francisco\n",
    "and two in Los Angeles every year. If the last earthquake in San Francisco occurred 10\n",
    "months ago and the last earthquake in Los Angeles occurred two months ago, what is the\n",
    "probability that the next earthquake in San Francisco occurs after the next earthquake in\n",
    "Los Angeles?\n",
    "\n",
    "(B) Suppose that the time it takes for a new assistant to type a document is exponential\n",
    "with mean 1 hour. If at the beginning of a certain eight-hour working day\n",
    "the assistant receives 12 documents to type, what is the probability that he or she will\n",
    "finish them all by the end of the day?\n",
    "\n",
    "Hint: There is a very simple answer to (A) if you use the principle of \"symmetry\" that\n",
    "we have mentioned several times in class. Otherwise, you can do the calculation...."
   ]
  },
  {
   "cell_type": "markdown",
   "metadata": {},
   "source": [
    "#### A\n",
    "Considering that the two events are equiprobable, and seemingly independent, and memoryless and symmetric, then the probability of an earthquake hitting SF before LA is the same as one hitting LA before SF, hence the probability of such event is 0.5\n",
    "\n",
    "#### B\n",
    "Let our timeframe be a single work-day, or 8 hours. With this our lambda will be 8.\n",
    "\n",
    "So, using the inverse method we get that:\n",
    "\n",
    "$P(X \\geq 12) = 1 - P(X < 12) = 1 - (P(11) + P(10) + P(9) + P(8) + P(7) + P(6) + P(5) + P(4) + P(3) + P(2) + P(1) + P(0)) = 1 - 0.8880 = 0.112$"
   ]
  },
  {
   "cell_type": "markdown",
   "metadata": {},
   "source": [
    "## Problem Nine (Poisson Distribution)\n",
    "\n",
    "The atoms of gram of Uranium 237 are disintegratings randomly with an average rate of 3.9 alpha particles per second. \n",
    "\n",
    "What is the probability that in the next second, the number\n",
    "of alpha particles emitted is\n",
    "\n",
    "(A) Exactly 4?\n",
    "\n",
    "(B)  At least 2?\n",
    "\n",
    "(C) Between 3 and 6 (inclusive)?\n",
    "\n",
    "Now consider:\n",
    "\n",
    "(D) What is the probability that for a period of five seconds, there are no emissions?\n",
    "\n",
    "(E) Suppose for a period of five seconds there are no emissions.  What is the probability that there are at least 2 emissions in the next second following this period? "
   ]
  },
  {
   "cell_type": "markdown",
   "metadata": {},
   "source": [
    "#### A\n",
    "$P(X=4) = f_x(4) = \\frac{e^{-3.9} 3.9^4}{4!} = 0.1951$\n",
    "\n",
    "#### B\n",
    "$P(X>2) = 1 - P(X=1) - P(X=0) = \\frac{e^{-3.9} 3.9^1}{1!} - \\frac{e^{-3.9} 3.9^0}{0!} = 1 - 0.0789 - 0.0202 = 0.9008$\n",
    "\n",
    "#### C\n",
    "$P(3 \\leq X \\leq 6) = P(3) + P(4) + P(5) + P(6) = 0.6464$\n",
    "\n",
    "#### D\n",
    "For this exercise, I'll assume that the average rate of decay for 5 seconds is $3.9 \\times 5 = 19.5$, and will use that has lambda.\n",
    "\n",
    "$P(X=0) = f_x(0) = \\frac{e^{-19.5} 19.5^0}{0!} = 3.3982 \\times 10^{-9}$\n",
    "\n",
    "\n",
    "#### E\n",
    "Since the probability is memoryless, the probability of 2 emissions after 5 seconds of no emissions is the same as the probability of 2 emissions after a period of any amount of emissions, so it's just a matter of plugging it into the formula:\n",
    "\n",
    "$P(X=2) = f_x(2) = \\frac{e^{-3.9} 3.9^2}{2!} = 0.1539$"
   ]
  },
  {
   "cell_type": "markdown",
   "metadata": {},
   "source": [
    "## Problem Ten (Poisson)\n",
    "\n",
    "Passengers are making reservations for the Jetblue flight at 9pm the night before Thanksgiving, at a Poisson rate of 3 reservations per 8\n",
    "hours. If 24 seats are made available for the flight two days (48 hours) before the flight, and passengers make reservations at the same rate\n",
    "for the whole 48 hours, what is the probability that by the time of the flight, all 24 seats have been reserved?\n",
    "\n",
    "Hint: Use the Inverse Method: figure out the probability that less than 24 people made reservations. "
   ]
  },
  {
   "cell_type": "markdown",
   "metadata": {},
   "source": [
    "#### Answer\n",
    "\n",
    "Firstly, lets adapt our timeframe, if 3 reservations are made in 8 hours on average, then in 48 hours we will have, on average, 18 reservations, thus giving us a lambda of 18 for a time frame of 48h.\n",
    "\n",
    "Now, we will calculate how likely it is for less than 24 people to reserve seats in this time frame by calculating:\n",
    "\n",
    "$P(X<24) = \\sum_{k=0}^{23} \\frac{e^{-18} 18^k}{k!} = 0.8989$\n",
    "\n",
    "From here, we apply the inverse method and get the probability of all 24 seats to be filled in 48h to be: $1 - 0.8989 = 0.1011$"
   ]
  },
  {
   "cell_type": "markdown",
   "metadata": {},
   "source": [
    "## Problem Eleven (Poisson)\n",
    "\n",
    "Suppose that earthquakes occur in a certain region of Califormia, following a Poisson Distribution, at a rate of 7 per year. \n",
    "\n",
    "(A)  What is the probability of no earthquakes next year?\n",
    "\n",
    "(B)  Suppose next year there are NO earthquakes; what is the probability\n",
    "that in each of the following two years, there will be at least one earthquakes\n",
    "during that entire two-year period?\n",
    "\n",
    "(C)  What is the probability that in exactly three of the next eight years no earthquakes will occur?\n",
    "\n",
    "Hint: You'll need to use the Poisson plus another discrete distribution for (C).  "
   ]
  },
  {
   "cell_type": "markdown",
   "metadata": {},
   "source": [
    "#### A\n",
    "This problem gives us a timeframe of 1 year, and a lambda of 7, so:\n",
    "\n",
    "$P(X=0) = \\frac{e^{-7} 7^0}{0!} = 0.0009$\n",
    "\n",
    "#### B\n",
    "Since Poisson Distribution is memoryless (due to its properties), the fact that the first year has no earthquakes means nothing. As for the calculation of 1 earthquake in a two year period, I'll be changing the timeframe to 2 years, and so the average amount of events (lambda) to 14:\n",
    "\n",
    "$P(X=0) = \\frac{e^{-14} 14^1}{1!} = 1.2 \\times 10^{-5}$\n",
    "\n",
    "\n",
    "#### C\n",
    "Since the events (earthquakes in a specific year) are independent, then we must have at least 3 of the years that have 0 earthquakes, and the rest doesn't matter, then we are left with the following calculation:\n",
    "\n",
    "$P(X=0)^3 * 1 = 0.0009^3 = 7.29 \\times 10^{-10}$"
   ]
  },
  {
   "cell_type": "markdown",
   "metadata": {},
   "source": [
    "## Problem Twelve (Poisson compared with Exponential)\n",
    "\n",
    "Suppose the emergency room at Mass General opens at 6am and has a mean arrival rate throughout the day of 6.9 patients per hour (that is<span> &lambda;</span> = 6.9). </p>\n",
    "<p>(A) What is the probability that 12 patients arrive between 6am and 7am?</p>\n",
    "<p>(B) What is the probability that no patient arrives before 7am?</p>\n",
    "<p>(C) What is the probability that<span> the first</span> patient arrives between 6am and 7am? </p>\n",
    "<p>(D) What is the probability that<span> the first</span> patient arrives between 6:15 and 6:45? </p>\n",
    "<p>(E) Suppose it is 6:15 and no patient has arrived yet; now what is the probability that<span> the first</span> patient arrives between 6:15 and 6:45? </p>\n",
    "<p>Hint: Use the Poisson for (A) and (B) and the Exponential for (C), (D), and (E).  \n",
    "Note carefully how (D) and (E) are different: in (D) it is possible that the first patient arrives between 6am and 6:15am, whereas for (E) you know this has not happened. \n",
    "The result for the two will be different!\n",
    "\n",
    "</p>"
   ]
  },
  {
   "cell_type": "markdown",
   "metadata": {},
   "source": [
    "#### A\n",
    "$P(X=12) = \\frac{e^{-6.9} 6.9^12}{12!} = 0.0245$\n",
    "\n",
    "#### B\n",
    "$P(X=0) = \\frac{e^{-6.9} 6.9^0}{0!} = 0.001$\n",
    "\n",
    "#### C\n"
   ]
  },
  {
   "cell_type": "code",
   "execution_count": 31,
   "metadata": {},
   "outputs": [
    {
     "data": {
      "text/plain": [
       "0.999"
      ]
     },
     "execution_count": 31,
     "metadata": {},
     "output_type": "execute_result"
    }
   ],
   "source": [
    "np.round(expon.cdf(x=1,loc=0,scale=1/6.9),4)"
   ]
  },
  {
   "cell_type": "markdown",
   "metadata": {},
   "source": [
    "#### D"
   ]
  },
  {
   "cell_type": "code",
   "execution_count": 32,
   "metadata": {},
   "outputs": [
    {
     "data": {
      "text/plain": [
       "0.3181"
      ]
     },
     "execution_count": 32,
     "metadata": {},
     "output_type": "execute_result"
    }
   ],
   "source": [
    "np.round(expon.cdf(x=3/4,loc=0,scale=1/lam) - expon.cdf(x=1/4,loc=0,scale=1/lam), 4)"
   ]
  },
  {
   "cell_type": "markdown",
   "metadata": {},
   "source": [
    "#### E\n",
    "Since the exponentional distribution is memoryless, the probability of the first patient arriving between 6:15 and 6:45 when no patient has arrived beforehand, is the same as the probability of the first patient arriving in the first half hour:"
   ]
  },
  {
   "cell_type": "code",
   "execution_count": 33,
   "metadata": {},
   "outputs": [
    {
     "data": {
      "text/plain": [
       "0.9683"
      ]
     },
     "execution_count": 33,
     "metadata": {},
     "output_type": "execute_result"
    }
   ],
   "source": [
    "np.round(expon.cdf(x=1/2,loc=0,scale=1/6.9),4)"
   ]
  },
  {
   "cell_type": "code",
   "execution_count": null,
   "metadata": {},
   "outputs": [],
   "source": []
  }
 ],
 "metadata": {
  "kernelspec": {
   "display_name": "Python 3",
   "language": "python",
   "name": "python3"
  },
  "language_info": {
   "codemirror_mode": {
    "name": "ipython",
    "version": 3
   },
   "file_extension": ".py",
   "mimetype": "text/x-python",
   "name": "python",
   "nbconvert_exporter": "python",
   "pygments_lexer": "ipython3",
   "version": "3.7.6"
  }
 },
 "nbformat": 4,
 "nbformat_minor": 2
}
