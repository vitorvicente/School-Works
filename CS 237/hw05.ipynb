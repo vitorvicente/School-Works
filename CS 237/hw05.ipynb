{
 "cells": [
  {
   "cell_type": "markdown",
   "metadata": {},
   "source": [
    "# CS 237 Spring 2020  Homework Five\n",
    "\n",
    "### Due date: PDF file due Thursday March 5th @ midnight in GradeScope with 6-hour grace period\n",
    "\n",
    "### Late deadline:  If submitted up to 24 hours late, you will receive a 10% penalty (with same 6 hours grace period)\n",
    "\n",
    "### General Instructions\n",
    "\n",
    "Please complete this notebook by filling in solutions where indicated. Be sure to \"Run All\" from the Cell menu before submitting. \n",
    "\n",
    "There are two sections to the homework: problems 1 - 8 are analytical problems about last\n",
    "week's material, and the remaining problems are coding problems which will be discussed in lab next week. \n"
   ]
  },
  {
   "cell_type": "code",
   "execution_count": 1,
   "metadata": {},
   "outputs": [],
   "source": [
    "# Here are some imports which will be used in code that we write for CS 237\n",
    " \n",
    "\n",
    "# Imports potentially used for this lab\n",
    "\n",
    "\n",
    "import matplotlib.pyplot as plt   # normal plotting\n",
    "import numpy as np\n",
    "\n",
    "from math import log, pi,log,floor       # import whatever you want from math\n",
    "from random import seed, random\n",
    "from scipy.special import comb\n",
    "from collections import Counter\n",
    "\n",
    "%matplotlib inline\n",
    "\n",
    "           \n",
    "def C(N,K):    \n",
    "    return comb(N,K,True)     # just a wrapper around the scipy function\n",
    "\n",
    "\n",
    "# This draws a useful bar chart for the distribution of the list of integers in outcomes\n",
    "\n",
    "def draw_distribution_from_outcomes(outcomes, title='Probability Distribution', my_xticks = [], f_size = (8,6)):\n",
    "    plt.figure(figsize=f_size)\n",
    "    num_trials = np.size(outcomes)\n",
    "    X = range( int(min(outcomes)), int(max(outcomes))+1 )    # \n",
    "    freqs = Counter(outcomes)\n",
    "    Y = [freqs[i]/num_trials for i in X]\n",
    "    plt.bar(X,Y,width=1.0,edgecolor='black')\n",
    "    if my_xticks != []:\n",
    "        plt.xticks(X, my_xticks)\n",
    "    elif (X[-1] - X[0] < 30):\n",
    "        ticks = range(X[0],X[-1]+1)\n",
    "        plt.xticks(ticks, ticks) \n",
    "    plt.xlabel(\"Outcomes\")\n",
    "    plt.ylabel(\"Probability\")\n",
    "    plt.title(title)\n",
    "    plt.show()\n",
    "    \n",
    "# Example of use\n",
    "\n",
    "#draw_distribution_from_outcomes([1,4,3,5,4,6,2,4,3,5,4])\n",
    "\n",
    "# This function takes a list of outcomes and a list of probabilities and\n",
    "# draws a chart of the probability distribution.\n",
    "# It allows labels for x axis with numbers or strings; for the latter, you\n",
    "# still need to give the numeric labels, but can overwrite them with your string labels. \n",
    "\n",
    "def draw_distribution_of_random_variable(Rx, Px, title='Probability Distribution', my_xticks = [], f_size = (8,6)):\n",
    "    plt.figure(figsize=f_size)\n",
    "    plt.bar(Rx,Px,width=1.0,edgecolor='black')\n",
    "    plt.ylabel(\"Probability\")\n",
    "    plt.xlabel(\"Outcomes\")\n",
    "    if my_xticks != []:\n",
    "        plt.xticks(Rx, my_xticks)\n",
    "    elif (Rx[-1] - Rx[0] < 30):\n",
    "        ticks = range(Rx[0],Rx[-1]+1)\n",
    "        plt.xticks(ticks, ticks)  \n",
    "    plt.title(title)\n",
    "    plt.show()\n",
    "    \n",
    "# Example of use\n",
    "    \n",
    "#draw_distribution_of_random_variable([1,2,3,4], [0.25,0.35,0.15,0.25])\n",
    "\n",
    "p = 0.14159234368\n",
    "\n",
    "#                                                                                   ||||||||||||||||\n",
    "# Notice how we gave strings as labels for the outcomes:                            vvvvvvvvvvvvvvvv\n",
    "\n",
    "#draw_distribution_of_random_variable( [0,1], [p,1.0-p],\"Distribution for Unfair Coin\", ['Heads','Tails'],(5,4))\n",
    " \n"
   ]
  },
  {
   "cell_type": "markdown",
   "metadata": {},
   "source": [
    "## Analytical Problem Instructions\n",
    "\n",
    "The first few problems ask you to \"describe\" a random variable, which means:\n",
    "\n",
    "> (i)   Give $R_X$ (you may schematize it if it is very complicated or infinite);<br>\n",
    "> (ii)  List out the values of $P_X$ corresponding to each element of $R_X$; <br>\n",
    "> (iii)  Draw the PMF, using the function <code>draw_distribution_of_random_variable</code> provided in the previous cell. <br>\n",
    "\n",
    "\n",
    "A nice way to approach these is to do any complicated calculations in Python and then if you have\n",
    "to change something you won't have to redo all the calculations. Plus, you will make fewer\n",
    "mistakes in calculation. However, there is no need to do this for simpler problems. \n",
    "\n",
    "I also **strongly** recommend creating new variables for each problem, for example Rx1, Rx2, etc. for\n",
    "the range of the random variable in problems 1, 2, etc.   That way, you won't have problems if you\n",
    "forget and use the wrong variable! You can also refer to previous results without problems. \n",
    "\n",
    "Following Problem One is an example of what I mean (it is a simple problem, but I am showing you\n",
    "how you could approach it). \n",
    "\n",
    "You are not **required** to do it this way, but I *encourage* you to do something similar. "
   ]
  },
  {
   "cell_type": "markdown",
   "metadata": {},
   "source": [
    "## Example Problem\n",
    "\n",
    "\n",
    "*Describe* the random variable X = \"the number of heads showing on 2 flipped fair coins\"\n"
   ]
  },
  {
   "cell_type": "code",
   "execution_count": 27,
   "metadata": {},
   "outputs": [
    {
     "name": "stdout",
     "output_type": "stream",
     "text": [
      "Solution:\n",
      "\n",
      "(i)   Rx = [0, 1, 2]\n",
      "(ii)  Px = [0.25 0.5  0.25]\n",
      "(iii)\n"
     ]
    },
    {
     "data": {
      "image/png": "[encoded data removed]",
      "text/plain": [
       "<Figure size 576x432 with 1 Axes>"
      ]
     },
     "metadata": {
      "needs_background": "light"
     },
     "output_type": "display_data"
    }
   ],
   "source": [
    "Rx0 = [0,1,2]\n",
    "    \n",
    "Px0 = [ C(2,k)*0.5*0.5 for k in Rx0 ]\n",
    "\n",
    "print(\"Solution:\\n\")\n",
    "print(\"(i)   Rx =\",Rx0)\n",
    "print(\"(ii)  Px =\",np.around(Px0,4))             # in case you get complicated decimals, round to 4 places\n",
    "print(\"(iii)\")\n",
    "\n",
    "draw_distribution_of_random_variable( Rx0, Px0, title='PDF for Example Problem')"
   ]
  },
  {
   "cell_type": "markdown",
   "metadata": {},
   "source": [
    "## Problem One\n",
    "\n",
    "All the random variables we studied in lecture were \"with replacement\"; however, random variables can\n",
    "implement any random experiment, including those involving choices \"without replacement,\" as we explore here. \n",
    "\n",
    "You are not responsible for the Hypergeometric distribution per se, but we\n",
    "will explore the random experiment which forms the basis for the distribution. \n",
    "This problem is a specific example of the Hypergeometric (and you should look at\n",
    "the formula for $P_X$ given in the textbook to do the problem -- it is very similar to the Poker probabilities!). \n",
    "\n",
    "You have a bag that contains 4 blue marbles and 6 red marbles. You choose 7 marbles at random (without replacement). \n",
    "\n",
    "Let $X$ = \"The number of blue marbles in your selection\"\n",
    "\n",
    "*Describe* the random variable $X$. \n"
   ]
  },
  {
   "cell_type": "code",
   "execution_count": 3,
   "metadata": {},
   "outputs": [
    {
     "name": "stdout",
     "output_type": "stream",
     "text": [
      "Solution:\n",
      "\n",
      "(i)   Rx = [1, 2, 3, 4]\n",
      "(ii)  Px = [0.0048 0.0143 0.0143 0.0048]\n",
      "(iii)\n"
     ]
    },
    {
     "data": {
      "image/png": "[encoded data removed]",
      "text/plain": [
       "<Figure size 576x432 with 1 Axes>"
      ]
     },
     "metadata": {
      "needs_background": "light"
     },
     "output_type": "display_data"
    }
   ],
   "source": [
    "Rx0 = [1,2,3,4]\n",
    "    \n",
    "p1 = 4/10 * 6/9 * 5/8 * 4/7 * 3/6 * 2/5 * 1/4\n",
    "p2 = 4/10 * 3/9 * 6/8 * 5/7 * 4/6 * 3/5 * 2/4\n",
    "p3 = 4/10 * 3/9 * 2/8 * 6/7 * 5/6 * 4/5 * 3/4\n",
    "p4 = 4/10 * 3/9 * 2/8 * 1/7\n",
    "Px0 = [p1, p2, p3, p4]\n",
    "\n",
    "print(\"Solution:\\n\")\n",
    "print(\"(i)   Rx =\",Rx0)\n",
    "print(\"(ii)  Px =\",np.around(Px0,4))             # in case you get complicated decimals, round to 4 places\n",
    "print(\"(iii)\")\n",
    "\n",
    "draw_distribution_of_random_variable( Rx0, Px0, title='PDF for P1 Problem')"
   ]
  },
  {
   "cell_type": "markdown",
   "metadata": {},
   "source": [
    "## Problem Two\n",
    "\n",
    "We will again explore a random variable (which has no name, I just made it up) which involves selection without replacement. \n",
    "\n",
    "Suppose you deal a 5-card hand from a standard deck which has been shuffled well. \n",
    "\n",
    "Let $X$ = \"The number of Spades occurring in the hand.\" \n",
    "\n",
    "*Describe* the random variable $X$. "
   ]
  },
  {
   "cell_type": "code",
   "execution_count": 16,
   "metadata": {},
   "outputs": [
    {
     "name": "stdout",
     "output_type": "stream",
     "text": [
      "Solution:\n",
      "\n",
      "(i)   Rx = [0, 1, 2, 3, 4, 5]\n",
      "(ii)  Px = [0.2215 0.4114 0.2743 0.0815 0.0107 0.0005]\n",
      "(iii)\n"
     ]
    },
    {
     "data": {
      "image/png": "[encoded data removed]",
      "text/plain": [
       "<Figure size 576x432 with 1 Axes>"
      ]
     },
     "metadata": {
      "needs_background": "light"
     },
     "output_type": "display_data"
    }
   ],
   "source": [
    "Rx0 = [0,1,2,3,4,5]\n",
    "    \n",
    "p0 = C(39, 5) / C(52, 5)\n",
    "p1 = (C(13, 1) * C(39,4)) / (C(52,5))\n",
    "p2 = (C(13, 2) * C(39, 3))/(C(52, 5))\n",
    "p3 = (C(13, 3) * C(39, 2))/(C(52, 5))\n",
    "p4 = (C(13, 4) * C(39, 1))/(C(52, 5))\n",
    "p5 = (C(13, 5))/(C(52, 5))\n",
    "\n",
    "Px0 = [p0, p1, p2, p3, p4, p5]\n",
    "\n",
    "print(\"Solution:\\n\")\n",
    "print(\"(i)   Rx =\",Rx0)\n",
    "print(\"(ii)  Px =\",np.around(Px0,4))             # in case you get complicated decimals, round to 4 places\n",
    "print(\"(iii)\")\n",
    "\n",
    "draw_distribution_of_random_variable( Rx0, Px0, title='PDF for P2 Problem')"
   ]
  },
  {
   "cell_type": "markdown",
   "metadata": {},
   "source": [
    "## Problem Three\n",
    "\n",
    "We refer to the random variable $X$ from Problem Two. \n",
    "\n",
    "<i>Describe</i> the random variable $Y = 2X + X - 1$\n",
    "\n",
    "\n",
    "Hint: when more than one instance of a random variable is involved, it is often useful to draw a matrix of all possibilities.  Consider the two instances\n",
    "of $X$ (i.e., two \"pokes\" at the same random variable)and draw a matrix of each of the possible outputs of the random variables, one along the rows and one along the columns.\n",
    "\n",
    "|    |  0  |  1  |  2  |  3  |  4  |  5  |  5  | \n",
    "|----|-----|-----|-----|-----|-----|-----|-----|\n",
    "|  <b>0</b> |    |     |    |     |     |     |     |  \n",
    "|  <b>1</b> |    |     |    |     |     |     |     |  \n",
    "|  <b>2</b> |    |     |    |     |     |     |      | \n",
    "|  <b>3</b> |    |     |    |     |     |     |     |  \n",
    "|  <b>4</b> |    |     |    |     |     |     |     | \n",
    "|  <b>5</b> |    |     |    |     |     |     |     |      \n",
    "\n",
    "For each slot in the resulting matrix, you can figure out the probabilities\n",
    "by multiplication (since the two instances of X are independent), as shown in class. The value in each slot will be $2X + X - 1$. \n",
    "Some outcomes will be the same, and you will have to add the probabilities\n",
    "to get the PMF of Y. \n",
    "\n",
    "I would do this calculation in Python, but it is up to you. \n",
    "If you use Python, you might want to use a dictionary to keep track of the values in the PMF. \n"
   ]
  },
  {
   "cell_type": "markdown",
   "metadata": {},
   "source": [
    "|           |  0  |  1  |  2  |  3  |  4  |  5  | \n",
    "|-----------|-----|-----|-----|-----|-----|-----|\n",
    "|  <b>0</b> | -1  |  1  |  3  |  5  |  7  |  9  |  \n",
    "|  <b>1</b> |  0  |  2  |  4  |  6  |  8  | 10  |  \n",
    "|  <b>2</b> |  1  |  3  |  5  |  7  |  9  | 11  | \n",
    "|  <b>3</b> |  2  |  4  |  6  |  8  | 10  | 12  |\n",
    "|  <b>4</b> |  3  |  5  |  7  |  9  | 11  | 13  |\n",
    "|  <b>5</b> |  4  |  6  |  8  | 10  | 12  | 14  |"
   ]
  },
  {
   "cell_type": "code",
   "execution_count": 19,
   "metadata": {},
   "outputs": [
    {
     "name": "stdout",
     "output_type": "stream",
     "text": [
      "Solution:\n",
      "\n",
      "(i)   Rx = [-1, 0, 1, 2, 3, 4, 5, 6, 7, 8, 9, 10, 11, 12, 13, 14]\n",
      "(ii)  Px = [0.04 0.04 0.08 0.08 0.12 0.12 0.12 0.12 0.12 0.12 0.12 0.12 0.08 0.08\n",
      " 0.04 0.04]\n",
      "(iii)\n"
     ]
    },
    {
     "data": {
      "image/png": "[encoded data removed]",
      "text/plain": [
       "<Figure size 576x432 with 1 Axes>"
      ]
     },
     "metadata": {
      "needs_background": "light"
     },
     "output_type": "display_data"
    }
   ],
   "source": [
    "Rx0 = [k for k in range(-1,15)]\n",
    "\n",
    "pneg1 = 1/25\n",
    "p0 = 1/25\n",
    "p1 = 2/25\n",
    "p2 = 2/25\n",
    "p3 = 3/25\n",
    "p4 = 3/25\n",
    "p5 = 3/25\n",
    "p6 = 3/25\n",
    "p7 = 3/25\n",
    "p8 = 3/25\n",
    "p9 = 3/25\n",
    "p10 = 3/25\n",
    "p11 = 2/25\n",
    "p12 = 2/25\n",
    "p13 = 1/25\n",
    "p14 = 1/25\n",
    "\n",
    "Px0 = [pneg1, p0, p1, p2, p3, p4, p5, p6, p7, p8, p9, p10, p11, p12, p13, p14]\n",
    "\n",
    "print(\"Solution:\\n\")\n",
    "print(\"(i)   Rx =\",Rx0)\n",
    "print(\"(ii)  Px =\",np.around(Px0,4))             # in case you get complicated decimals, round to 4 places\n",
    "print(\"(iii)\")\n",
    "\n",
    "draw_distribution_of_random_variable( Rx0, Px0, title='PDF for P3 Problem')"
   ]
  },
  {
   "cell_type": "markdown",
   "metadata": {},
   "source": [
    "## Problem 4 (Independence of RVs)\n",
    "\n",
    "Part (A)  Let  $X$ = \"the number of dots showing on a single thrown die\" and let\n",
    "\n",
    "$$Y\\,=\\,X_1 + X_2.$$\n",
    "\n",
    "(The subscripts here do not indicate different random variables, but two\n",
    "different instance (\"pokes\" as I say in lecture) of the *same* random variable.\n",
    "This is a fairly common notation.)\n",
    "\n",
    "(A) Show that the random variables $Y$ and $X_1$ are *not independent*. \n",
    "\n",
    "(B) In order to encode \"events\" from the first part of the course, we will use\n",
    "the technique of \"indicator random variables\" from the textbook. \n",
    "\n",
    "$$\\begin{equation}\n",
    "        I_A(x) = \\begin{cases}\n",
    "                   1               & \\text{ if $X_1$ returns an even number } \\\\\n",
    "                   0              & \\text{otherwise}\n",
    "               \\end{cases}\n",
    "\\end{equation}$$\n",
    "\n",
    "and finally let\n",
    "\n",
    "$$\\begin{equation}\n",
    "        I_B(x) = \\begin{cases}\n",
    "                   1               & \\text{ if } X_1 < X_2 \\\\\n",
    "                   0              & \\text{otherwise}\n",
    "               \\end{cases}\n",
    "\\end{equation}$$\n",
    "\n",
    "Are the random variables $I_A$ and $I_B$ independent?  Show all your work (it\n",
    "should be very familiar to you, once you think about the notation), including\n",
    "the matrix (which should be very small!). \n",
    "\n",
    "(C)  Suppose you have two independent binomial random variables as follows:\n",
    "\n",
    "$$Z_1 = Binomial(N_1,p)\\quad\\quad Z_2 = Binomial(N_2, p)$$\n",
    "\n",
    "Note that $N_1$ and $N_2$ are possibly different, but the $p$ is the same\n",
    "in both cases. \n",
    "\n",
    "What is the distribution of the random variable $Z_3\\,=\\,Z_1 + Z_2$?\n",
    "\n",
    "You must give the answer and your justification for full credit. "
   ]
  },
  {
   "cell_type": "markdown",
   "metadata": {},
   "source": [
    "##### A\n",
    "By the definition of Y itself we can clearly see that it depends on $X_1$, but if we describe the variable Y (which is done bellow) we can see in a more concrete fashion this fact:\n",
    "\n",
    "|           |  1  |  2  |  3  |  4  |  5  |  6  | \n",
    "|-----------|-----|-----|-----|-----|-----|-----|\n",
    "|  <b>1</b> |  2  |  3  |  4  |  5  |  6  |  7  |  \n",
    "|  <b>2</b> |  3  |  4  |  5  |  6  |  7  |  8  |  \n",
    "|  <b>3</b> |  4  |  5  |  6  |  7  |  8  |  9  | \n",
    "|  <b>4</b> |  5  |  6  |  7  |  8  |  9  | 10  |\n",
    "|  <b>5</b> |  6  |  7  |  8  |  9  | 10  | 11  |\n",
    "|  <b>6</b> |  7  |  8  |  9  | 10  | 11  | 12  |\n",
    "\n",
    "As shown, the value of Y clearly depends on whatever $X_1$ is, so does the probability of each Y value.\n",
    "\n",
    "\n",
    "##### B\n",
    "If we draw a matrix for the two events we have that:\n",
    "\n",
    "|           |  0  |  1  |\n",
    "|-----------|-----|-----|\n",
    "|  <b>0</b> |  9  | 12  | \n",
    "|  <b>1</b> |  9  | 12  |\n",
    "\n",
    "With this, knowing that the probability of $I_A = 1$ is $\\frac{1}{2}$, and so is the probability of $I_A = 0$, and knowing that the probability of $I_B = 0$ is $\\frac{21}{36}$ and the probability of $I_B = 1$ is $\\frac{15}{36}$, we can check if the probability of the combination of, for example $I_A = 0$ and $I_B = 0$, as shown above to be $\\frac{9}{36}$ is equal to the product of the two probabilities: $\\frac{1}{2} \\times \\frac{21}{36} = 0.29$ this clearly differs from the 0.25 shown above, meaning the events are not independent.\n",
    "\n",
    "##### C\n",
    "Let $N_1$ and $A$ be the options for the first binomial, and $N_2$ & $B$ be the options for the second one.\n",
    "As such, we know that $P(N_1) = P(N_2) = p$ and $P(A) = P(B) = 1-p$.\n",
    "\n",
    "Knowing this, we have the following distribution for $Z_3$ let each square be the probability of the sum of the two parameters:\n",
    "\n",
    "|             |      N_1     |      A      |\n",
    "|-------------|--------------|-------------|\n",
    "|  <b>N_2</b> |     $p*p$    |  $(1-p)*p$  | \n",
    "|  <b>B</b>   |   $p*(1-p)$  |  $(1-p)^2$  |\n",
    "\n",
    "P($Z_3 = N_1 + N_2$) = $p^2$\n",
    "\n",
    "P($Z_3 = N_1 + B$) = $p*(1-p)$\n",
    "\n",
    "P($Z_3 = A + N_2$) = $p*(1-p)$\n",
    "\n",
    "P($Z_3 = A + B$) = $(1-p)^2$"
   ]
  },
  {
   "cell_type": "markdown",
   "metadata": {},
   "source": [
    "## Problem 5 (Binomial)\n",
    "\n",
    "\n",
    "(A) If you roll a die 5 times, what is the probability of 5 or 6 showing on the die in exactly 2 of the rolls?\n",
    "\n",
    "(B) If two fair dice are rolled 10 times, what is the probability of at least one 6 (on either die) in exactly five of these 10 rolls?\n",
    "\n",
    "(C) Suppose that each day the price of a stock moves up 1/8th of a point with probability 1/3 and moves down 1/8th of the point with probability 2/3. If the price fluctuations from day to day are independent and identically distributed, what is the probability that after 6 days the stock has its original price?\n",
    "\n",
    "Hint for (C): you could draw a tree, but it is easier to answer the following question: how many moves up and how many moves down result in no change in the stock price after 3 days?\n",
    " "
   ]
  },
  {
   "cell_type": "markdown",
   "metadata": {},
   "source": [
    "##### A\n",
    "$\\frac{2}{6} \\times \\frac{2}{6} \\times \\frac{4}{6} \\times \\frac{4}{6} \\times \\frac{4}{6} = 0.0329$\n",
    "\n",
    "##### B\n",
    "$(\\frac{11}{36})^5 \\times (\\frac{25}{36})^5 = 0.00043$\n",
    "\n",
    "##### C\n",
    "$(\\frac{1}{3})^3 \\times (\\frac{2}{3})^3 = 0.0109$"
   ]
  },
  {
   "cell_type": "markdown",
   "metadata": {},
   "source": [
    "## Problem 6\n",
    "\n",
    "\n",
    "Suppose numbers in the range $[0..1)$ are randomly and independently selected\n",
    "and rounded to 3 decimal places. Therefore we can assume that all possible combinations of 3 digits after the decimal point are equally likely. \n",
    "\n",
    "For each of these, give the discrete distribution involved, phrase it as a probability in the form `P(...X....)` and answer the question. \n",
    "\n",
    "(a) What is the probability that the first selection is no more than 0.345?\n",
    "\n",
    "(b) What is the probability that 0.345 occurs at least twice in the first 1000 selections?\n",
    "\n",
    "(c) What is the probability that 0.345 is selected for the first time on the 1000th selection?\n",
    "\n",
    "Hint: This uses 3 of the 4 discrete distributions we studied last Thursday (2/20).  "
   ]
  },
  {
   "cell_type": "markdown",
   "metadata": {},
   "source": [
    "##### A\n",
    "P(X $\\leq$ 0.345) = $\\frac{346}{1000} = 0.346$\n",
    "\n",
    "##### B\n",
    "$\\frac{1}{1000} \\times \\frac{1}{1000} = 1 \\times 10^{-6}$\n",
    "\n",
    "##### C\n",
    "$(\\frac{999}{1000})^{999} \\times \\frac{1}{1000} = 0.0003$"
   ]
  },
  {
   "cell_type": "markdown",
   "metadata": {},
   "source": [
    "## Problem Seven\n",
    "\n",
    "Suppose a professor of probability is tired of reading the depressing news and so he decides that he will quickly scan the first 5 headlines in the New Yorks Times and the first 5 headlines in the Boston Globe and if at most 3 of the articles in each are depressing, he will read the news that day. Further suppose that the probability of a NYTs headline being depressing is 0.6 and for the Globe the probability of a headline being depressing is 0.55. \n",
    "\n",
    "(a) What is the probability that he will read the news the first day he tries this?\n",
    "\n",
    "(b) In order to be \"well-informed\" he needs to read the news at least half the time; what is the probability that he will be well-informed after doing this for a week? \n",
    "\n",
    "Hint: This is another problem where there are two independent parts of the random experiment.\n",
    "You might want to phrase it as three different random variables, all three being binomial."
   ]
  },
  {
   "cell_type": "markdown",
   "metadata": {},
   "source": [
    "##### A\n",
    "To calculate this, we need to take into account the 9 different options:\n",
    "- All 3 depressing articles are in the NYT\n",
    "- All 3 depressing articles are in the BG\n",
    "- There are 2 depressing articles in the NYT and none in the BG\n",
    "- There are 2 depressing articles in the BG and none in the NYT\n",
    "- There is 1 depressing article in the NYT and none in the BG\n",
    "- There is 1 depressing article in the BG  and none in the NYT\n",
    "\n",
    "- 2 Depressing articles are in the NYT and 1 in the BG\n",
    "- 2 Depressing articles are in the BG and 1 in the NYT\n",
    "\n",
    "- There is 1 depressing article in each newspaper\n",
    "\n",
    "So, if we calculate the value and add them we get that: \n",
    "\n",
    "$0.6^3 \\times 0.4^2 \\times 0.45^5 + 0.4^5 \\times 0.55^3 \\times 0.45^2 + 0.6^2 \\times 0.4^3 \\times 0.45^5 + 0.4^5 \\times 0.55^2 \\times 0.45^3 + 0.6 \\times 0.4^4 \\times 0.45^5 + 0.4^5 \\times 0.55 \\times 0.45^4 + 0.6^2 \\times 0.4^3 \\times 0.55 \\times 0.45^4 + 0.6 \\times 0.4^4 \\times 0.55^2 \\times 0.45^3 + 0.6 \\times 0.4^4 \\times 0.55 \\times 0.45^4 = 0.0034$\n",
    "\n",
    "\n",
    "##### B\n",
    "Since a week is 7 days, I'll consider that he has to read the news at least 4 times, since the probability he reads the news each day is the same, but the event is independent, all we have to do is calculate it based on the value from A:\n",
    "\n",
    "$0.0034^4 = 1.49 \\times 10^{-10}$"
   ]
  },
  {
   "cell_type": "markdown",
   "metadata": {},
   "source": [
    "## Problem Eight\n",
    "\n",
    "Suppose that jury members decide on each case independently, and each makes the correct decision randomly with probability p. If the decision of the majority is final, which is preferable in arriving at correct verdicts, a 3-person jury or a single juror?\n",
    "\n",
    "Hint: This will depend on p. For p ∈ {0, 1/2, 1 }, it will make no difference. For other cases it will make a difference. Explain carefully how this plays out depending on p and show all the calculations. You need to calculate the probability of a successful decision with a 3-person jury, and compare that with the probability of a correct decision with a single juror (which is just p). When the former is larger than the latter, then the 3-person jury is preferable. That is, assuming you are innocent!"
   ]
  },
  {
   "cell_type": "markdown",
   "metadata": {},
   "source": [
    "##### General explanation\n",
    "If we take a probability of, for example, $\\frac{1}{3}$, and we take a 3-person jury, then AT LEAST 2 people have to agree, but this does mean that all 3 can agree aswell, so, to calculate the probability, we have to calculate the permutations (since order matters cause each judge is in its own place) of 2 judges making the right choice, and add it to the probability of all three making the right decision, this leads us to:\n",
    "\n",
    "$3 \\times (\\frac{1}{3})^2 \\times \\frac{2}{3}) + \\frac{1}{27} = \\frac{7}{27} < \\frac{1}{3}$\n",
    "\n",
    "This means that, if the probability is $\\frac{1}{3}$, then a 3 person group would be correct less often than a single judge.\n",
    "\n",
    "However, if we invert the probabilities, we get that:\n",
    "\n",
    "$3 \\times (\\frac{2}{3})^2 \\times \\frac{1}{3}) + \\frac{8}{27} = \\frac{20}{27} > \\frac{2}{3}$\n",
    "\n",
    "If we continued on with the math, we would realize that, for any number between 1/2 and 1, a bigger group of juries is better, but for probabilities bellow 1/2, then a single jury would be correct more often."
   ]
  },
  {
   "cell_type": "markdown",
   "metadata": {},
   "source": [
    "## Lab Instructions\n",
    "\n",
    "In the previous homework, problem 12, we investigated how to generate random values (called \"random variates\" in the literature). In this lab, we will continue this theme and explore a variety of ways of implementing\n",
    "general random variables:\n",
    "\n",
    ">     1. By composing other random variables (as in the last lab)  \n",
    ">     2  By inverting the CDF; and\n",
    ">     3. By using an explicit formula.\n",
    "\n",
    "\n",
    "In the second and third of these, we will convert a random variate in the range $[0..1)$ created by\n",
    "the function `np.random.random()` into a random variate from a different distribution.  \n",
    "We did this in a simple way for the Bernoulli distribution; for more complicated\n",
    "distributions we need more powerful techniques, which we explore in this lab. \n",
    "\n"
   ]
  },
  {
   "cell_type": "markdown",
   "metadata": {},
   "source": [
    "## Problem Nine: Generating a Random Variable from other RVs\n",
    "\n",
    "This problem is literally a continuation of problem 12 from the last lab: you must use\n",
    "the Geometric RV to create the Pascal Distribution (discussed in lecture and in the textbook). \n",
    "\n",
    "Although there is not much to do in this problem (if you understood the lecture and did the previous homework), the point is\n",
    "to confirm our understanding that random variables can be composed to create other random variables.\n",
    "\n",
    "Complete the template in the second cell below to create and test the Pascal random variable. "
   ]
  },
  {
   "cell_type": "code",
   "execution_count": 2,
   "metadata": {},
   "outputs": [],
   "source": [
    "# Nothing to do here, go to next cell\n",
    "\n",
    "# The Bernoulli RV from last lab\n",
    "\n",
    "def bernoulli(p=0.5,size=1):\n",
    "    lst = [ (1 if (np.random.random() < p) else 0)  for k in range(size) ]         \n",
    "    if size == 1:\n",
    "        return lst[0]\n",
    "    else:\n",
    "        return lst\n",
    "    \n",
    "# The Geometric RV from last lab\n",
    "\n",
    "def geometric(p=0.5,size=1):\n",
    "    \n",
    "    def geomAux(p):             # You can nest definitions to avoid too many global definitions!\n",
    "        count = 1\n",
    "        while(True):\n",
    "            if bernoulli(p) == 1:\n",
    "                break\n",
    "            else:\n",
    "                count += 1\n",
    "        return count\n",
    "    \n",
    "    lst = [ geomAux(p)  for k in range(size) ]         \n",
    "    if size == 1:\n",
    "        return lst[0]\n",
    "    else:\n",
    "        return lst\n",
    "    "
   ]
  },
  {
   "cell_type": "code",
   "execution_count": 3,
   "metadata": {},
   "outputs": [
    {
     "name": "stdout",
     "output_type": "stream",
     "text": [
      "10 \n",
      "\n",
      "17 \n",
      "\n",
      "[14, 8, 7, 6, 8, 9, 7, 10, 13, 18] \n",
      "\n"
     ]
    },
    {
     "data": {
      "image/png": "[encoded data removed]",
      "text/plain": [
       "<Figure size 576x432 with 1 Axes>"
      ]
     },
     "metadata": {
      "needs_background": "light"
     },
     "output_type": "display_data"
    }
   ],
   "source": [
    "# Complete the template to create a pascal random variable    \n",
    "    \n",
    "def pascal(m,p=0.5,size=1):\n",
    "    \n",
    "    def pascalAux(m,p):\n",
    "        lst1 = geometric(p,m)\n",
    "        count = 0\n",
    "        for i in range(0,m):\n",
    "            count += lst1[i]\n",
    "        return count\n",
    "    \n",
    "    lst = [ pascalAux(m,p)  for k in range(size) ]\n",
    "    if size == 1:\n",
    "        return lst[0]\n",
    "    else:\n",
    "        return lst    \n",
    "\n",
    "np.random.seed(0)\n",
    "\n",
    "# Test 1: should return 10 or 10.0  (not [10])\n",
    "\n",
    "print(pascal(5,0.6),'\\n')\n",
    "\n",
    "# Test 2: should return 28 or 28.0  (not [28])\n",
    "\n",
    "print(pascal(5,0.2,1),'\\n')\n",
    "\n",
    "# Test 3: should return a list or array    [14, 8, 7, 6, 8, 9, 7, 10, 13, 18]\n",
    "\n",
    "print(pascal(5,0.5,10),'\\n')\n",
    "\n",
    "draw_distribution_from_outcomes(pascal(5,0.5,10**4))"
   ]
  },
  {
   "cell_type": "markdown",
   "metadata": {},
   "source": [
    "## Problem Ten: Generating a Distribution by Inverting the CDF\n",
    "\n",
    "In this problem we will investigate how to implement a random variable given by an arbitary probability distribution function. First, however, you need to know about the CDF, the Cumulative Distribution Function, which is a simple but crucially important idea, which you can understand by looking at the last slide on Lecture 8 (which I did not cover in lecture) or <a href=\"https://www.probabilitycourse.com/chapter3/3_2_1_cdf.php\">here</a>. Please look at this before continuing with the lab. \n",
    "\n",
    "The basic idea in these problems is that we can essentially \"invert\" the CDF to obtain a function from a random variate in the range $[0..1)$ into  a random variable from the given distribution. \n"
   ]
  },
  {
   "cell_type": "markdown",
   "metadata": {},
   "source": [
    "### (A): Calculating the Cumulative Distribution Function\n",
    "\n",
    "Complete the following to calculate $F_X$ for the CDF of the probability distribution $P_X$, and then \n",
    "demonstrate your code by calculating and displaying the CDF for $X\\sim binomial(5,0.5)$. \n"
   ]
  },
  {
   "cell_type": "code",
   "execution_count": 3,
   "metadata": {},
   "outputs": [
    {
     "name": "stdout",
     "output_type": "stream",
     "text": [
      "Fx = [0.0312 0.1875 0.5    0.8125 0.9688 1.    ]\n"
     ]
    },
    {
     "data": {
      "image/png": "[encoded data removed]",
      "text/plain": [
       "<Figure size 576x432 with 1 Axes>"
      ]
     },
     "metadata": {
      "needs_background": "light"
     },
     "output_type": "display_data"
    }
   ],
   "source": [
    "# Create a running sum of the probabilities\n",
    "# in the PMF to define the CDF\n",
    "\n",
    "def CDF(Px):\n",
    "    C = [0 for k in range(len(Px))]\n",
    "    \n",
    "    sum = 0\n",
    "    for i in range(len(Px)):\n",
    "        sum += Px[i]\n",
    "        C[i] = sum\n",
    "    \n",
    "    C[-1] = 1.0                 # Just in case: FP error may not add all to exactly 1.0\n",
    "    return C\n",
    "\n",
    "# This is binomial(5,0.5)\n",
    "Rx10A = [0,1,2,3,4,5]\n",
    "Px10A = [1/32,5/32,10/32,10/32,5/32,1/32]\n",
    "\n",
    "# create the CDF\n",
    "Fx10A = CDF(Px10A)\n",
    "\n",
    "print(\"Fx =\", np.around(Fx10A,4))\n",
    "\n",
    "draw_distribution_of_random_variable(Rx10A,Fx10A)\n",
    "\n",
    "# Should get Fx = [0.0312 0.1875 0.5    0.8125 0.9688 1.    ]\n",
    "# and the display of the distribution"
   ]
  },
  {
   "cell_type": "markdown",
   "metadata": {},
   "source": [
    "### (B): Generating random variates by inverting the CDF\n",
    "\n",
    "The basic idea here is that the CDF is a function from outcomes to probabilities:\n",
    "\n",
    "$$F_X\\,:\\,R_X\\rightarrow [0..1)$$\n",
    "\n",
    "if we invert this function, we get\n",
    "a function from the interval $[0..1)$ into the outcomes:\n",
    "\n",
    "$$F^{-1}_X\\, : \\,[0..1)\\rightarrow R_X$$ \n",
    "\n",
    "The algorithm for doing this is actually very simple: \n",
    "\n",
    ">  Generate a random value $a$ in the range $[0..1)$ and search from left to right for the first bin which is greater than $a$; output the corresponding outcome.\n",
    "\n",
    "The next two cells contains a demonstration of this idea: the first one shows the binomial distribution Binomial(3,0.5), the second shows how the random value $a$ selects one of the outputs. Run that cell a few times to see where the random value ends up: the first bin that the red line intersects going left to right indicates the outcome that is output. Be sure you understand how this process works, and what number would be output, for each test. "
   ]
  },
  {
   "cell_type": "code",
   "execution_count": 5,
   "metadata": {},
   "outputs": [
    {
     "data": {
      "image/png": "[encoded data removed]",
      "text/plain": [
       "<Figure size 576x288 with 1 Axes>"
      ]
     },
     "metadata": {
      "needs_background": "light"
     },
     "output_type": "display_data"
    }
   ],
   "source": [
    "Rx9B = [0,1,2,3]\n",
    "Px9B = [1/8,3/8,3/8,1/8]\n",
    "\n",
    "Fx9B = CDF(Px9B)\n",
    "\n",
    "plt.figure(figsize=(8, 4))\n",
    "plt.bar(Rx9B,Px9B,width=1.0,edgecolor='black')\n",
    "plt.ylabel(\"Probability\")\n",
    "plt.xlabel(\"Outcomes\")\n",
    "if (Rx9B[-1] - Rx9B[0] < 30):\n",
    "    ticks = range(Rx9B[0],Rx9B[-1]+1)\n",
    "    plt.xticks(ticks, ticks)  \n",
    "plt.title(\"Probability Distribution Function\")\n",
    "plt.show()"
   ]
  },
  {
   "cell_type": "code",
   "execution_count": 14,
   "metadata": {},
   "outputs": [
    {
     "data": {
      "image/png": "[encoded data removed]",
      "text/plain": [
       "<Figure size 576x288 with 1 Axes>"
      ]
     },
     "metadata": {
      "needs_background": "light"
     },
     "output_type": "display_data"
    }
   ],
   "source": [
    "# Run this a few times and make sure you understand what\n",
    "# outcome would be produced in each case\n",
    "\n",
    "plt.figure(figsize=(8, 4))\n",
    "plt.bar(Rx9B,Fx9B,width=1.0,edgecolor='black')\n",
    "a = random()\n",
    "plt.plot([-0.5,3.5],[a,a],color=\"red\")\n",
    "plt.ylabel(\"Probability\")\n",
    "plt.xlabel(\"Outcomes\") \n",
    "plt.title(\"Inverting the CDF: a = \" + str(np.around(a,4)))\n",
    "plt.show()"
   ]
  },
  {
   "cell_type": "markdown",
   "metadata": {
    "scrolled": false
   },
   "source": [
    "### TODO for 10 (B):\n",
    "\n",
    "Complete the following code template to generate random variates for\n",
    "a given random variable (represented by Rx and Px), using the code from Part (A). \n",
    "\n",
    "Demonstrate your code by generating $10^5$ variates from the random variable $X$ from Problem Two and display it using <code>draw_distribution_from_outcomes(...)</code>. \n",
    "\n",
    "Hint: Compare with the theoretical distribution from Problem Two.  They should be very close! "
   ]
  },
  {
   "cell_type": "code",
   "execution_count": 4,
   "metadata": {},
   "outputs": [
    {
     "name": "stdout",
     "output_type": "stream",
     "text": [
      "Demonstration:\n"
     ]
    },
    {
     "data": {
      "image/png": "[encoded data removed]",
      "text/plain": [
       "<Figure size 576x432 with 1 Axes>"
      ]
     },
     "metadata": {
      "needs_background": "light"
     },
     "output_type": "display_data"
    }
   ],
   "source": [
    "def rvs(Rx,Px):\n",
    "    C = CDF(Px)\n",
    "    \n",
    "    a = random()\n",
    "    val = C[0]\n",
    "    answer = Rx[0]\n",
    "    counter = 1\n",
    "    while (a > val):\n",
    "        val = C[counter]\n",
    "        answer = Rx[counter]\n",
    "        counter += 1\n",
    "    \n",
    "    return answer\n",
    "\n",
    "Rx9BB = [0,1,2,3,4,5]\n",
    "    \n",
    "p0 = C(39, 5) / C(52, 5)\n",
    "p1 = (C(13, 1) * C(39,4)) / (C(52,5))\n",
    "p2 = (C(13, 2) * C(39, 3))/(C(52, 5))\n",
    "p3 = (C(13, 3) * C(39, 2))/(C(52, 5))\n",
    "p4 = (C(13, 4) * C(39, 1))/(C(52, 5))\n",
    "p5 = (C(13, 5))/(C(52, 5))\n",
    "\n",
    "Px9BB = [p0, p1, p2, p3, p4, p5]\n",
    "\n",
    "print(\"Demonstration:\")\n",
    "\n",
    "np.random.seed(0)\n",
    "\n",
    "Outcomes9B = [ rvs(Rx9BB,Px9BB) for i in range(10**5) ]\n",
    "\n",
    "draw_distribution_from_outcomes(Outcomes9B)"
   ]
  },
  {
   "cell_type": "markdown",
   "metadata": {},
   "source": [
    "## Problem Eleven:  Creating Random Variates for Standard Distributions by Inverting the CDF\n",
    "\n",
    "Now we will apply the technique from the last problem to generate random variates for two common distributions.\n",
    " "
   ]
  },
  {
   "cell_type": "markdown",
   "metadata": {},
   "source": [
    "### Part (a) Binomial Variates\n",
    "\n",
    "Create the binomial random variable using the technique shown above of inverting the CDF (you did this a different way in the previous lab). \n",
    " \n",
    "Display the result of generating $10^5$ random variates from the Binomial\n",
    "Distribution with $N=8$ and $p=0.8$ using <code>draw_distribution_from_outcomes</code>.  \n",
    "\n",
    "\n"
   ]
  },
  {
   "cell_type": "code",
   "execution_count": 5,
   "metadata": {},
   "outputs": [
    {
     "name": "stdout",
     "output_type": "stream",
     "text": [
      "Solution:\n",
      "\n"
     ]
    },
    {
     "data": {
      "image/png": "[encoded data removed]",
      "text/plain": [
       "<Figure size 576x432 with 1 Axes>"
      ]
     },
     "metadata": {
      "needs_background": "light"
     },
     "output_type": "display_data"
    }
   ],
   "source": [
    "# Now generate the empirical distribution\n",
    "\n",
    "N = 8\n",
    "p = 0.8\n",
    "\n",
    "def genBinDist(N,p):\n",
    "    lst = [0 for k in range(N+1)]\n",
    "    negp = 1-p\n",
    "    count = N\n",
    "    for i in range(N+1):\n",
    "        if (i == 0):\n",
    "            lst[i] = (negp**count)\n",
    "        elif (count == 0 ):\n",
    "            lst[i] = (p**i)\n",
    "        else:\n",
    "            lst[i] = (p**i) * (negp**count)\n",
    "        count -= 1\n",
    "        \n",
    "    return lst\n",
    "    \n",
    "\n",
    "Rx11a = [k for k in range(N+2)]\n",
    "Px11a = genBinDist(N,p)\n",
    "\n",
    "print(\"Solution:\\n\")\n",
    "\n",
    "num_trials = 10**5\n",
    "\n",
    "np.random.seed(0)         \n",
    "\n",
    "Outcomes11a  = [ rvs(Rx11a ,Px11a ) for k in range(num_trials)]\n",
    "\n",
    "draw_distribution_from_outcomes( Outcomes11a , \"Experimental Probability Distribution for Binomial(\"+str(N)+\",\"+str(p)+ \")\")"
   ]
  },
  {
   "cell_type": "markdown",
   "metadata": {},
   "source": [
    "### Part (b) Geometric Variates \n",
    "\n",
    "Although $R_x$ is infinite, we will only approximate this distribution by considering the first 20 outcomes. \n",
    "This will potentially create an error, since of course it is possible for the value produce to be larger than 20, however, the probability is so small we will not worry about it. Note that our code for the CDF did not\n",
    "calculate the last bin, but simply set it to 1.0, which will make sure our generation of random variates does not crash. \n",
    "\n",
    "Display the experimental distribution for the Geometric Distribution with $p=0.6$, using <code>draw_distribution_from_outcomes</code>  for $10^5$ trials.  \n",
    "\n"
   ]
  },
  {
   "cell_type": "code",
   "execution_count": 6,
   "metadata": {
    "scrolled": false
   },
   "outputs": [
    {
     "data": {
      "image/png": "[encoded data removed]",
      "text/plain": [
       "<Figure size 576x432 with 1 Axes>"
      ]
     },
     "metadata": {
      "needs_background": "light"
     },
     "output_type": "display_data"
    }
   ],
   "source": [
    "# Solution\n",
    "\n",
    "limit = 20\n",
    "p = 0.6 \n",
    "\n",
    "def getGeoProb(limit,p):\n",
    "    lst = [0 for k in range(1,limit+1)]\n",
    "    \n",
    "    counter = 0\n",
    "    for i in range(1,limit+1):\n",
    "        lst[counter] = p*((1-p)**(i-1))\n",
    "        counter += 1\n",
    "        \n",
    "    return lst\n",
    "\n",
    "Rx11B = [k for k in range(1, limit+1)]            # Your code here\n",
    "Px11B = getGeoProb(limit,p)\n",
    "\n",
    "# Test it!\n",
    "\n",
    "np.random.seed(0)\n",
    "\n",
    "R =  [ rvs(Rx11B,Px11B) for k in range(30) ]\n",
    "\n",
    "num_trials = 10**5\n",
    "\n",
    "np.random.seed(0)             # this is from the random library, to make sure student answers are consistent with my solution\n",
    "\n",
    "Outcomes11B = [ rvs(Rx11B,Px11B) for k in range(num_trials)]\n",
    "\n",
    "draw_distribution_from_outcomes( Outcomes11B , \"Empirical Probability Distribution for G(\"+str(N)+\",\"+str(p)+ \")\")"
   ]
  },
  {
   "cell_type": "markdown",
   "metadata": {},
   "source": [
    "##  Problem Twelve: Generating the Geometric Distribution by Explicit Formula\n",
    "\n",
    "Now we will explore using an explicit function for the inverse of the CDF. This is not possible for all distributions, but when it is, it the simplest (and most efficient) method.  \n",
    "\n",
    "The following formula is from <a href=\"https://en.wikipedia.org/wiki/Geometric_distribution\">Wikipedia</a>: if U is a random variable uniformly distributed in the range [0..1), then\n",
    "\n",
    "$$    1 + \\lfloor \\,\\ln{( U )} \\, \\,/ \\, \\ln{( 1 - p )}  \\,\\rfloor$$            \n",
    "          \n",
    "is an integer which is distributed according to the Geometric Distribution with probability p.\n",
    "\n",
    "Note: $\\ln$ is log to the base $e$ (just `log(...)` in Python). \n",
    "\n",
    "\n",
    "For this problem, simply complete the following function stub and demonstrate it and you did in the previous problems.  \n"
   ]
  },
  {
   "cell_type": "code",
   "execution_count": 8,
   "metadata": {
    "scrolled": false
   },
   "outputs": [
    {
     "data": {
      "image/png": "[encoded data removed]",
      "text/plain": [
       "<Figure size 576x432 with 1 Axes>"
      ]
     },
     "metadata": {
      "needs_background": "light"
     },
     "output_type": "display_data"
    }
   ],
   "source": [
    "import math\n",
    "\n",
    "def geom_rvs(p):\n",
    "    return (1+ (math.floor(((math.log(np.random.random())) / (math.log(1-p))))))\n",
    "\n",
    "# test it\n",
    "          \n",
    "p12 = 0.4 \n",
    "          \n",
    "num_trials = 10**5\n",
    "\n",
    "np.random.seed(0)\n",
    "\n",
    "Outcomes12 = [ geom_rvs(p12) for k in range(num_trials)]\n",
    "\n",
    "draw_distribution_from_outcomes( Outcomes12 , \"Empirical Probability Distribution for Geo(\" + str(p) + \")\")"
   ]
  },
  {
   "cell_type": "code",
   "execution_count": null,
   "metadata": {},
   "outputs": [],
   "source": []
  }
 ],
 "metadata": {
  "kernelspec": {
   "display_name": "Python 3",
   "language": "python",
   "name": "python3"
  },
  "language_info": {
   "codemirror_mode": {
    "name": "ipython",
    "version": 3
   },
   "file_extension": ".py",
   "mimetype": "text/x-python",
   "name": "python",
   "nbconvert_exporter": "python",
   "pygments_lexer": "ipython3",
   "version": "3.7.4"
  }
 },
 "nbformat": 4,
 "nbformat_minor": 2
}
