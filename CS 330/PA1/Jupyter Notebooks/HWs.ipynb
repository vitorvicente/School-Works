{
 "cells": [
  {
   "cell_type": "code",
   "execution_count": 42,
   "metadata": {},
   "outputs": [
    {
     "name": "stdout",
     "output_type": "stream",
     "text": [
      "x: 1\n",
      "Actual Bits: 1\n",
      "Binary Representation: 1\n",
      "\n",
      "Returned Bits: 1\n",
      "Recursive Calls: 2\n",
      "[1, 0]\n",
      "\n"
     ]
    }
   ],
   "source": [
    "def countSetBits(n): \n",
    "    count = 0\n",
    "    while (n): \n",
    "        count += n & 1\n",
    "        n >>= 1\n",
    "    return count\n",
    "\n",
    "\n",
    "def actFunc(n, timesRan, lst):\n",
    "    lst.append(n)\n",
    "    if n == 0:\n",
    "        return 0, (timesRan+1), lst\n",
    "    if n%2 == 0:\n",
    "        return actFunc(n/2, timesRan+1, lst)\n",
    "    else:\n",
    "        x, y, z = actFunc(2*(n-1), timesRan+1, lst)\n",
    "        return x+1, y, z\n",
    "    \n",
    "    \n",
    "x = 1\n",
    "actualBits = countSetBits(x)\n",
    "returnedBits, recursiveCalls, stops = actFunc(x,0,[])\n",
    "\n",
    "\n",
    "print(\"x: \" + str(x))\n",
    "print(\"Actual Bits: \" + str(actualBits))\n",
    "print(\"Binary Representation: \" + str(bin(x))[2:])\n",
    "print()\n",
    "print(\"Returned Bits: \" + str(returnedBits))\n",
    "print(\"Recursive Calls: \" + str(recursiveCalls))\n",
    "print(stops)\n",
    "print()\n"
   ]
  },
  {
   "cell_type": "code",
   "execution_count": null,
   "metadata": {},
   "outputs": [],
   "source": []
  }
 ],
 "metadata": {
  "kernelspec": {
   "display_name": "Python 3",
   "language": "python",
   "name": "python3"
  },
  "language_info": {
   "codemirror_mode": {
    "name": "ipython",
    "version": 3
   },
   "file_extension": ".py",
   "mimetype": "text/x-python",
   "name": "python",
   "nbconvert_exporter": "python",
   "pygments_lexer": "ipython3",
   "version": "3.7.4"
  }
 },
 "nbformat": 4,
 "nbformat_minor": 2
}
