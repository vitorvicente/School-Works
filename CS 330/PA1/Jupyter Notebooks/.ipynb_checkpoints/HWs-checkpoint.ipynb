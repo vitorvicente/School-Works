{
 "cells": [
  {
   "cell_type": "code",
   "execution_count": 21,
   "metadata": {},
   "outputs": [
    {
     "name": "stdout",
     "output_type": "stream",
     "text": [
      "x: 10\n",
      "Actual Bits: 2\n",
      "Binary Representation: 0b1010\n",
      "\n",
      "Returned Bits: 2\n",
      "Recursive Calls: 7\n",
      "[10, 5.0, 8.0, 4.0, 2.0, 1.0, 0.0]\n",
      "\n"
     ]
    }
   ],
   "source": [
    "def countSetBits(n): \n",
    "    count = 0\n",
    "    while (n): \n",
    "        count += n & 1\n",
    "        n >>= 1\n",
    "    return count\n",
    "\n",
    "\n",
    "def actFunc(n, timesRan, lst):\n",
    "    lst.append(n)\n",
    "    if n == 0:\n",
    "        return 0, (timesRan+1), lst\n",
    "    if n%2 == 0:\n",
    "        return actFunc(n/2, timesRan+1, lst)\n",
    "    else:\n",
    "        x, y, z = actFunc(2*(n-1), timesRan+1, lst)\n",
    "        return x+1, y, z\n",
    "    \n",
    "    \n",
    "x = 10\n",
    "actualBits = countSetBits(x)\n",
    "returnedBits, recursiveCalls, stops = actFunc(x,0,[])\n",
    "\n",
    "\n",
    "print(\"x: \" + str(x))\n",
    "print(\"Actual Bits: \" + str(actualBits))\n",
    "print(\"Binary Representation: \" + str(bin(x)))\n",
    "print(bin(x))\n",
    "print()\n",
    "print(\"Returned Bits: \" + str(returnedBits))\n",
    "print(\"Recursive Calls: \" + str(recursiveCalls))\n",
    "print(stops)\n",
    "print()\n"
   ]
  },
  {
   "cell_type": "code",
   "execution_count": null,
   "metadata": {},
   "outputs": [],
   "source": []
  },
  {
   "cell_type": "code",
   "execution_count": null,
   "metadata": {},
   "outputs": [],
   "source": []
  },
  {
   "cell_type": "code",
   "execution_count": null,
   "metadata": {},
   "outputs": [],
   "source": []
  }
 ],
 "metadata": {
  "kernelspec": {
   "display_name": "Python 3",
   "language": "python",
   "name": "python3"
  },
  "language_info": {
   "codemirror_mode": {
    "name": "ipython",
    "version": 3
   },
   "file_extension": ".py",
   "mimetype": "text/x-python",
   "name": "python",
   "nbconvert_exporter": "python",
   "pygments_lexer": "ipython3",
   "version": "3.7.4"
  }
 },
 "nbformat": 4,
 "nbformat_minor": 2
}
